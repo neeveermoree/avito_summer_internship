{
 "cells": [
  {
   "cell_type": "code",
   "execution_count": 1,
   "metadata": {},
   "outputs": [],
   "source": [
    "import os\n",
    "import numpy as np\n",
    "import pandas as pd\n",
    "import matplotlib.pyplot as plt"
   ]
  },
  {
   "cell_type": "code",
   "execution_count": 2,
   "metadata": {},
   "outputs": [
    {
     "data": {
      "text/plain": [
       "['category.csv', 'test.csv', 'avito.ipynb', '.ipynb_checkpoints', 'train.csv']"
      ]
     },
     "execution_count": 2,
     "metadata": {},
     "output_type": "execute_result"
    }
   ],
   "source": [
    "os.listdir()"
   ]
  },
  {
   "cell_type": "markdown",
   "metadata": {},
   "source": [
    "### Взглянем на данные"
   ]
  },
  {
   "cell_type": "code",
   "execution_count": 3,
   "metadata": {},
   "outputs": [],
   "source": [
    "train = pd.read_csv('train.csv', index_col='item_id')"
   ]
  },
  {
   "cell_type": "code",
   "execution_count": 4,
   "metadata": {},
   "outputs": [
    {
     "data": {
      "text/plain": [
       "(489517, 4)"
      ]
     },
     "execution_count": 4,
     "metadata": {},
     "output_type": "execute_result"
    }
   ],
   "source": [
    "train.shape"
   ]
  },
  {
   "cell_type": "code",
   "execution_count": 5,
   "metadata": {},
   "outputs": [
    {
     "data": {
      "text/html": [
       "<div>\n",
       "<style scoped>\n",
       "    .dataframe tbody tr th:only-of-type {\n",
       "        vertical-align: middle;\n",
       "    }\n",
       "\n",
       "    .dataframe tbody tr th {\n",
       "        vertical-align: top;\n",
       "    }\n",
       "\n",
       "    .dataframe thead th {\n",
       "        text-align: right;\n",
       "    }\n",
       "</style>\n",
       "<table border=\"1\" class=\"dataframe\">\n",
       "  <thead>\n",
       "    <tr style=\"text-align: right;\">\n",
       "      <th></th>\n",
       "      <th>title</th>\n",
       "      <th>description</th>\n",
       "      <th>price</th>\n",
       "      <th>category_id</th>\n",
       "    </tr>\n",
       "    <tr>\n",
       "      <th>item_id</th>\n",
       "      <th></th>\n",
       "      <th></th>\n",
       "      <th></th>\n",
       "      <th></th>\n",
       "    </tr>\n",
       "  </thead>\n",
       "  <tbody>\n",
       "    <tr>\n",
       "      <th>0</th>\n",
       "      <td>Картина</td>\n",
       "      <td>Гобелен. Размеры 139х84см.</td>\n",
       "      <td>1000.0</td>\n",
       "      <td>19</td>\n",
       "    </tr>\n",
       "    <tr>\n",
       "      <th>1</th>\n",
       "      <td>Стулья из прессованной кожи</td>\n",
       "      <td>Продам недорого 4 стула из светлой прессованно...</td>\n",
       "      <td>1250.0</td>\n",
       "      <td>22</td>\n",
       "    </tr>\n",
       "    <tr>\n",
       "      <th>2</th>\n",
       "      <td>Домашняя мини баня</td>\n",
       "      <td>Мини баня МБ-1(мини сауна), предназначена для ...</td>\n",
       "      <td>13000.0</td>\n",
       "      <td>37</td>\n",
       "    </tr>\n",
       "    <tr>\n",
       "      <th>3</th>\n",
       "      <td>Эксклюзивная коллекция книг \"Трансаэро\" + подарок</td>\n",
       "      <td>Продам эксклюзивную коллекцию книг, выпущенную...</td>\n",
       "      <td>4000.0</td>\n",
       "      <td>43</td>\n",
       "    </tr>\n",
       "    <tr>\n",
       "      <th>4</th>\n",
       "      <td>Ноутбук aser</td>\n",
       "      <td>Продаётся ноутбук ACER e5-511C2TA. Куплен в ко...</td>\n",
       "      <td>19000.0</td>\n",
       "      <td>1</td>\n",
       "    </tr>\n",
       "    <tr>\n",
       "      <th>5</th>\n",
       "      <td>Бас гитара invasion bg110</td>\n",
       "      <td>Состояние хорошее. Имеется теплый чехол .</td>\n",
       "      <td>3999.0</td>\n",
       "      <td>50</td>\n",
       "    </tr>\n",
       "    <tr>\n",
       "      <th>6</th>\n",
       "      <td>Смесь \"Грудничок\" г. Зеленодольск</td>\n",
       "      <td>Смесь молочная адаптированная ультрапастеризов...</td>\n",
       "      <td>15.0</td>\n",
       "      <td>41</td>\n",
       "    </tr>\n",
       "    <tr>\n",
       "      <th>7</th>\n",
       "      <td>G-shock</td>\n",
       "      <td>Часы абсолютно новые! с коробкой. Часы   Китай...</td>\n",
       "      <td>2500.0</td>\n",
       "      <td>36</td>\n",
       "    </tr>\n",
       "    <tr>\n",
       "      <th>8</th>\n",
       "      <td>Санатории Белоруссии. - \"Лепельский военный\"</td>\n",
       "      <td>Санатории Белоруссии! -  «Лепельский военный» ...</td>\n",
       "      <td>1090.0</td>\n",
       "      <td>48</td>\n",
       "    </tr>\n",
       "    <tr>\n",
       "      <th>9</th>\n",
       "      <td>Фотохолст</td>\n",
       "      <td>Фотохолст на подрамнике. 36х58см. Галерейная н...</td>\n",
       "      <td>1250.0</td>\n",
       "      <td>19</td>\n",
       "    </tr>\n",
       "    <tr>\n",
       "      <th>10</th>\n",
       "      <td>Ботильоны Nando Muzi</td>\n",
       "      <td>В хорошем состоянии,тёмно-коричневый цвет.Юмр</td>\n",
       "      <td>5000.0</td>\n",
       "      <td>39</td>\n",
       "    </tr>\n",
       "    <tr>\n",
       "      <th>11</th>\n",
       "      <td>Игрушка playGro, Лев</td>\n",
       "      <td>Игрушка playGro, б/у, состояние отличное. (Вид...</td>\n",
       "      <td>400.0</td>\n",
       "      <td>30</td>\n",
       "    </tr>\n",
       "    <tr>\n",
       "      <th>12</th>\n",
       "      <td>Кроватка для младенца</td>\n",
       "      <td>Кроватка для новорожденного регулируется в 2 п...</td>\n",
       "      <td>2999.0</td>\n",
       "      <td>34</td>\n",
       "    </tr>\n",
       "    <tr>\n",
       "      <th>13</th>\n",
       "      <td>Продам утяжелители поясные новые</td>\n",
       "      <td>Продам утяжелители поясные новые, 2 кг. 400р. ...</td>\n",
       "      <td>500.0</td>\n",
       "      <td>46</td>\n",
       "    </tr>\n",
       "    <tr>\n",
       "      <th>14</th>\n",
       "      <td>Цилиндрическая люстра</td>\n",
       "      <td>продам люстру,в отличном состоянии</td>\n",
       "      <td>2000.0</td>\n",
       "      <td>28</td>\n",
       "    </tr>\n",
       "    <tr>\n",
       "      <th>15</th>\n",
       "      <td>Фацелия пижмолистная</td>\n",
       "      <td>Семена фацелии-отличный медонос,нетребовательн...</td>\n",
       "      <td>275.0</td>\n",
       "      <td>24</td>\n",
       "    </tr>\n",
       "    <tr>\n",
       "      <th>16</th>\n",
       "      <td>Стол письменный Икеа</td>\n",
       "      <td>В хорошем состоянии . С полочками .105 на 50 С...</td>\n",
       "      <td>2300.0</td>\n",
       "      <td>22</td>\n",
       "    </tr>\n",
       "    <tr>\n",
       "      <th>17</th>\n",
       "      <td>Станок</td>\n",
       "      <td>Продам деревообрабатывающий станок . На интере...</td>\n",
       "      <td>6000.0</td>\n",
       "      <td>17</td>\n",
       "    </tr>\n",
       "    <tr>\n",
       "      <th>18</th>\n",
       "      <td>Продам коляску Bebecar IP-OP 3в1 Португалия б/у</td>\n",
       "      <td>Продам нашу любимую колясочку Bebecar IP-OP 3в...</td>\n",
       "      <td>21500.0</td>\n",
       "      <td>32</td>\n",
       "    </tr>\n",
       "    <tr>\n",
       "      <th>19</th>\n",
       "      <td>Пальто</td>\n",
       "      <td>Продаю пальто надеялась несколько раз...)</td>\n",
       "      <td>3500.0</td>\n",
       "      <td>38</td>\n",
       "    </tr>\n",
       "  </tbody>\n",
       "</table>\n",
       "</div>"
      ],
      "text/plain": [
       "                                                     title  \\\n",
       "item_id                                                      \n",
       "0                                                  Картина   \n",
       "1                              Стулья из прессованной кожи   \n",
       "2                                       Домашняя мини баня   \n",
       "3        Эксклюзивная коллекция книг \"Трансаэро\" + подарок   \n",
       "4                                             Ноутбук aser   \n",
       "5                                Бас гитара invasion bg110   \n",
       "6                        Смесь \"Грудничок\" г. Зеленодольск   \n",
       "7                                                  G-shock   \n",
       "8             Санатории Белоруссии. - \"Лепельский военный\"   \n",
       "9                                                Фотохолст   \n",
       "10                                    Ботильоны Nando Muzi   \n",
       "11                                    Игрушка playGro, Лев   \n",
       "12                                   Кроватка для младенца   \n",
       "13                        Продам утяжелители поясные новые   \n",
       "14                                   Цилиндрическая люстра   \n",
       "15                                    Фацелия пижмолистная   \n",
       "16                                    Стол письменный Икеа   \n",
       "17                                                  Станок   \n",
       "18         Продам коляску Bebecar IP-OP 3в1 Португалия б/у   \n",
       "19                                                  Пальто   \n",
       "\n",
       "                                               description    price  \\\n",
       "item_id                                                               \n",
       "0                               Гобелен. Размеры 139х84см.   1000.0   \n",
       "1        Продам недорого 4 стула из светлой прессованно...   1250.0   \n",
       "2        Мини баня МБ-1(мини сауна), предназначена для ...  13000.0   \n",
       "3        Продам эксклюзивную коллекцию книг, выпущенную...   4000.0   \n",
       "4        Продаётся ноутбук ACER e5-511C2TA. Куплен в ко...  19000.0   \n",
       "5                Состояние хорошее. Имеется теплый чехол .   3999.0   \n",
       "6        Смесь молочная адаптированная ультрапастеризов...     15.0   \n",
       "7        Часы абсолютно новые! с коробкой. Часы   Китай...   2500.0   \n",
       "8        Санатории Белоруссии! -  «Лепельский военный» ...   1090.0   \n",
       "9        Фотохолст на подрамнике. 36х58см. Галерейная н...   1250.0   \n",
       "10           В хорошем состоянии,тёмно-коричневый цвет.Юмр   5000.0   \n",
       "11       Игрушка playGro, б/у, состояние отличное. (Вид...    400.0   \n",
       "12       Кроватка для новорожденного регулируется в 2 п...   2999.0   \n",
       "13       Продам утяжелители поясные новые, 2 кг. 400р. ...    500.0   \n",
       "14                      продам люстру,в отличном состоянии   2000.0   \n",
       "15       Семена фацелии-отличный медонос,нетребовательн...    275.0   \n",
       "16       В хорошем состоянии . С полочками .105 на 50 С...   2300.0   \n",
       "17       Продам деревообрабатывающий станок . На интере...   6000.0   \n",
       "18       Продам нашу любимую колясочку Bebecar IP-OP 3в...  21500.0   \n",
       "19               Продаю пальто надеялась несколько раз...)   3500.0   \n",
       "\n",
       "         category_id  \n",
       "item_id               \n",
       "0                 19  \n",
       "1                 22  \n",
       "2                 37  \n",
       "3                 43  \n",
       "4                  1  \n",
       "5                 50  \n",
       "6                 41  \n",
       "7                 36  \n",
       "8                 48  \n",
       "9                 19  \n",
       "10                39  \n",
       "11                30  \n",
       "12                34  \n",
       "13                46  \n",
       "14                28  \n",
       "15                24  \n",
       "16                22  \n",
       "17                17  \n",
       "18                32  \n",
       "19                38  "
      ]
     },
     "execution_count": 5,
     "metadata": {},
     "output_type": "execute_result"
    }
   ],
   "source": [
    "train.head(20)"
   ]
  },
  {
   "cell_type": "code",
   "execution_count": 6,
   "metadata": {},
   "outputs": [],
   "source": [
    "train.iloc[7, 0] = 'Gshock'"
   ]
  },
  {
   "cell_type": "code",
   "execution_count": 7,
   "metadata": {},
   "outputs": [
    {
     "name": "stdout",
     "output_type": "stream",
     "text": [
      "<class 'pandas.core.frame.DataFrame'>\n",
      "Int64Index: 489517 entries, 0 to 489516\n",
      "Data columns (total 4 columns):\n",
      "title          489517 non-null object\n",
      "description    489517 non-null object\n",
      "price          489517 non-null float64\n",
      "category_id    489517 non-null int64\n",
      "dtypes: float64(1), int64(1), object(2)\n",
      "memory usage: 18.7+ MB\n"
     ]
    }
   ],
   "source": [
    "train.info()    #no nan objects"
   ]
  },
  {
   "cell_type": "markdown",
   "metadata": {},
   "source": [
    "### Таргет"
   ]
  },
  {
   "cell_type": "code",
   "execution_count": 8,
   "metadata": {},
   "outputs": [],
   "source": [
    "categories = pd.read_csv('category.csv', index_col='category_id')"
   ]
  },
  {
   "cell_type": "code",
   "execution_count": 9,
   "metadata": {},
   "outputs": [
    {
     "data": {
      "text/plain": [
       "(54, 1)"
      ]
     },
     "execution_count": 9,
     "metadata": {},
     "output_type": "execute_result"
    }
   ],
   "source": [
    "categories.shape"
   ]
  },
  {
   "cell_type": "code",
   "execution_count": 68,
   "metadata": {
    "scrolled": true
   },
   "outputs": [
    {
     "data": {
      "text/html": [
       "<div>\n",
       "<style scoped>\n",
       "    .dataframe tbody tr th:only-of-type {\n",
       "        vertical-align: middle;\n",
       "    }\n",
       "\n",
       "    .dataframe tbody tr th {\n",
       "        vertical-align: top;\n",
       "    }\n",
       "\n",
       "    .dataframe thead th {\n",
       "        text-align: right;\n",
       "    }\n",
       "</style>\n",
       "<table border=\"1\" class=\"dataframe\">\n",
       "  <thead>\n",
       "    <tr style=\"text-align: right;\">\n",
       "      <th></th>\n",
       "      <th>name</th>\n",
       "    </tr>\n",
       "    <tr>\n",
       "      <th>category_id</th>\n",
       "      <th></th>\n",
       "    </tr>\n",
       "  </thead>\n",
       "  <tbody>\n",
       "    <tr>\n",
       "      <th>0</th>\n",
       "      <td>Бытовая электроника|Телефоны|iPhone</td>\n",
       "    </tr>\n",
       "    <tr>\n",
       "      <th>1</th>\n",
       "      <td>Бытовая электроника|Ноутбуки</td>\n",
       "    </tr>\n",
       "    <tr>\n",
       "      <th>2</th>\n",
       "      <td>Бытовая электроника|Телефоны|Samsung</td>\n",
       "    </tr>\n",
       "    <tr>\n",
       "      <th>3</th>\n",
       "      <td>Бытовая электроника|Планшеты и электронные кни...</td>\n",
       "    </tr>\n",
       "    <tr>\n",
       "      <th>4</th>\n",
       "      <td>Бытовая электроника|Игры, приставки и программ...</td>\n",
       "    </tr>\n",
       "    <tr>\n",
       "      <th>5</th>\n",
       "      <td>Бытовая электроника|Аудио и видео|Телевизоры и...</td>\n",
       "    </tr>\n",
       "    <tr>\n",
       "      <th>6</th>\n",
       "      <td>Бытовая электроника|Телефоны|Другие марки</td>\n",
       "    </tr>\n",
       "    <tr>\n",
       "      <th>7</th>\n",
       "      <td>Бытовая электроника|Настольные компьютеры</td>\n",
       "    </tr>\n",
       "    <tr>\n",
       "      <th>8</th>\n",
       "      <td>Бытовая электроника|Игры, приставки и программ...</td>\n",
       "    </tr>\n",
       "    <tr>\n",
       "      <th>9</th>\n",
       "      <td>Бытовая электроника|Телефоны|Аксессуары|Чехлы ...</td>\n",
       "    </tr>\n",
       "    <tr>\n",
       "      <th>10</th>\n",
       "      <td>Бытовая электроника|Телефоны|Nokia</td>\n",
       "    </tr>\n",
       "    <tr>\n",
       "      <th>11</th>\n",
       "      <td>Бытовая электроника|Телефоны|Sony</td>\n",
       "    </tr>\n",
       "    <tr>\n",
       "      <th>12</th>\n",
       "      <td>Бытовая электроника|Аудио и видео|Акустика, ко...</td>\n",
       "    </tr>\n",
       "    <tr>\n",
       "      <th>13</th>\n",
       "      <td>Бытовая электроника|Товары для компьютера|Мони...</td>\n",
       "    </tr>\n",
       "    <tr>\n",
       "      <th>14</th>\n",
       "      <td>Бытовая электроника|Товары для компьютера|Сете...</td>\n",
       "    </tr>\n",
       "    <tr>\n",
       "      <th>15</th>\n",
       "      <td>Для дома и дачи|Ремонт и строительство|Стройма...</td>\n",
       "    </tr>\n",
       "    <tr>\n",
       "      <th>16</th>\n",
       "      <td>Для дома и дачи|Мебель и интерьер|Кровати, див...</td>\n",
       "    </tr>\n",
       "    <tr>\n",
       "      <th>17</th>\n",
       "      <td>Для дома и дачи|Ремонт и строительство|Инструм...</td>\n",
       "    </tr>\n",
       "    <tr>\n",
       "      <th>18</th>\n",
       "      <td>Для дома и дачи|Мебель и интерьер|Шкафы и комоды</td>\n",
       "    </tr>\n",
       "    <tr>\n",
       "      <th>19</th>\n",
       "      <td>Для дома и дачи|Мебель и интерьер|Предметы инт...</td>\n",
       "    </tr>\n",
       "    <tr>\n",
       "      <th>20</th>\n",
       "      <td>Для дома и дачи|Посуда и товары для кухни|Посуда</td>\n",
       "    </tr>\n",
       "    <tr>\n",
       "      <th>21</th>\n",
       "      <td>Для дома и дачи|Ремонт и строительство|Сантехн...</td>\n",
       "    </tr>\n",
       "    <tr>\n",
       "      <th>22</th>\n",
       "      <td>Для дома и дачи|Мебель и интерьер|Столы и стулья</td>\n",
       "    </tr>\n",
       "    <tr>\n",
       "      <th>23</th>\n",
       "      <td>Для дома и дачи|Мебель и интерьер|Другое</td>\n",
       "    </tr>\n",
       "    <tr>\n",
       "      <th>24</th>\n",
       "      <td>Для дома и дачи|Растения</td>\n",
       "    </tr>\n",
       "    <tr>\n",
       "      <th>25</th>\n",
       "      <td>Для дома и дачи|Ремонт и строительство|Двери</td>\n",
       "    </tr>\n",
       "    <tr>\n",
       "      <th>26</th>\n",
       "      <td>Для дома и дачи|Бытовая техника|Для дома|Стира...</td>\n",
       "    </tr>\n",
       "    <tr>\n",
       "      <th>27</th>\n",
       "      <td>Для дома и дачи|Мебель и интерьер|Текстиль и к...</td>\n",
       "    </tr>\n",
       "    <tr>\n",
       "      <th>28</th>\n",
       "      <td>Для дома и дачи|Мебель и интерьер|Освещение</td>\n",
       "    </tr>\n",
       "    <tr>\n",
       "      <th>29</th>\n",
       "      <td>Для дома и дачи|Бытовая техника|Для кухни|Мелк...</td>\n",
       "    </tr>\n",
       "    <tr>\n",
       "      <th>30</th>\n",
       "      <td>Личные вещи|Товары для детей и игрушки|Игрушки</td>\n",
       "    </tr>\n",
       "    <tr>\n",
       "      <th>31</th>\n",
       "      <td>Личные вещи|Одежда, обувь, аксессуары|Аксессуары</td>\n",
       "    </tr>\n",
       "    <tr>\n",
       "      <th>32</th>\n",
       "      <td>Личные вещи|Товары для детей и игрушки|Детские...</td>\n",
       "    </tr>\n",
       "    <tr>\n",
       "      <th>33</th>\n",
       "      <td>Личные вещи|Одежда, обувь, аксессуары|Женская ...</td>\n",
       "    </tr>\n",
       "    <tr>\n",
       "      <th>34</th>\n",
       "      <td>Личные вещи|Товары для детей и игрушки|Детская...</td>\n",
       "    </tr>\n",
       "    <tr>\n",
       "      <th>35</th>\n",
       "      <td>Личные вещи|Одежда, обувь, аксессуары|Женская ...</td>\n",
       "    </tr>\n",
       "    <tr>\n",
       "      <th>36</th>\n",
       "      <td>Личные вещи|Часы и украшения|Часы</td>\n",
       "    </tr>\n",
       "    <tr>\n",
       "      <th>37</th>\n",
       "      <td>Личные вещи|Красота и здоровье|Приборы и аксес...</td>\n",
       "    </tr>\n",
       "    <tr>\n",
       "      <th>38</th>\n",
       "      <td>Личные вещи|Одежда, обувь, аксессуары|Женская ...</td>\n",
       "    </tr>\n",
       "    <tr>\n",
       "      <th>39</th>\n",
       "      <td>Личные вещи|Одежда, обувь, аксессуары|Женская ...</td>\n",
       "    </tr>\n",
       "    <tr>\n",
       "      <th>40</th>\n",
       "      <td>Личные вещи|Часы и украшения|Ювелирные изделия</td>\n",
       "    </tr>\n",
       "    <tr>\n",
       "      <th>41</th>\n",
       "      <td>Личные вещи|Товары для детей и игрушки|Товары ...</td>\n",
       "    </tr>\n",
       "    <tr>\n",
       "      <th>42</th>\n",
       "      <td>Хобби и отдых|Спорт и отдых|Зимние виды спорта</td>\n",
       "    </tr>\n",
       "    <tr>\n",
       "      <th>43</th>\n",
       "      <td>Хобби и отдых|Книги и журналы|Книги</td>\n",
       "    </tr>\n",
       "    <tr>\n",
       "      <th>44</th>\n",
       "      <td>Хобби и отдых|Коллекционирование|Другое</td>\n",
       "    </tr>\n",
       "    <tr>\n",
       "      <th>45</th>\n",
       "      <td>Хобби и отдых|Коллекционирование|Монеты</td>\n",
       "    </tr>\n",
       "    <tr>\n",
       "      <th>46</th>\n",
       "      <td>Хобби и отдых|Спорт и отдых|Фитнес и тренажёры</td>\n",
       "    </tr>\n",
       "    <tr>\n",
       "      <th>47</th>\n",
       "      <td>Хобби и отдых|Спорт и отдых|Другое</td>\n",
       "    </tr>\n",
       "    <tr>\n",
       "      <th>48</th>\n",
       "      <td>Хобби и отдых|Билеты и путешествия|Путешествия</td>\n",
       "    </tr>\n",
       "    <tr>\n",
       "      <th>49</th>\n",
       "      <td>Хобби и отдых|Охота и рыбалка</td>\n",
       "    </tr>\n",
       "    <tr>\n",
       "      <th>50</th>\n",
       "      <td>Хобби и отдых|Музыкальные инструменты|Гитары и...</td>\n",
       "    </tr>\n",
       "    <tr>\n",
       "      <th>51</th>\n",
       "      <td>Хобби и отдых|Книги и журналы|Учебная литература</td>\n",
       "    </tr>\n",
       "    <tr>\n",
       "      <th>52</th>\n",
       "      <td>Хобби и отдых|Музыкальные инструменты|Для студ...</td>\n",
       "    </tr>\n",
       "    <tr>\n",
       "      <th>53</th>\n",
       "      <td>Хобби и отдых|Велосипеды|Запчасти и аксессуары</td>\n",
       "    </tr>\n",
       "  </tbody>\n",
       "</table>\n",
       "</div>"
      ],
      "text/plain": [
       "                                                          name\n",
       "category_id                                                   \n",
       "0                          Бытовая электроника|Телефоны|iPhone\n",
       "1                                 Бытовая электроника|Ноутбуки\n",
       "2                         Бытовая электроника|Телефоны|Samsung\n",
       "3            Бытовая электроника|Планшеты и электронные кни...\n",
       "4            Бытовая электроника|Игры, приставки и программ...\n",
       "5            Бытовая электроника|Аудио и видео|Телевизоры и...\n",
       "6                    Бытовая электроника|Телефоны|Другие марки\n",
       "7                    Бытовая электроника|Настольные компьютеры\n",
       "8            Бытовая электроника|Игры, приставки и программ...\n",
       "9            Бытовая электроника|Телефоны|Аксессуары|Чехлы ...\n",
       "10                          Бытовая электроника|Телефоны|Nokia\n",
       "11                           Бытовая электроника|Телефоны|Sony\n",
       "12           Бытовая электроника|Аудио и видео|Акустика, ко...\n",
       "13           Бытовая электроника|Товары для компьютера|Мони...\n",
       "14           Бытовая электроника|Товары для компьютера|Сете...\n",
       "15           Для дома и дачи|Ремонт и строительство|Стройма...\n",
       "16           Для дома и дачи|Мебель и интерьер|Кровати, див...\n",
       "17           Для дома и дачи|Ремонт и строительство|Инструм...\n",
       "18            Для дома и дачи|Мебель и интерьер|Шкафы и комоды\n",
       "19           Для дома и дачи|Мебель и интерьер|Предметы инт...\n",
       "20            Для дома и дачи|Посуда и товары для кухни|Посуда\n",
       "21           Для дома и дачи|Ремонт и строительство|Сантехн...\n",
       "22            Для дома и дачи|Мебель и интерьер|Столы и стулья\n",
       "23                    Для дома и дачи|Мебель и интерьер|Другое\n",
       "24                                    Для дома и дачи|Растения\n",
       "25                Для дома и дачи|Ремонт и строительство|Двери\n",
       "26           Для дома и дачи|Бытовая техника|Для дома|Стира...\n",
       "27           Для дома и дачи|Мебель и интерьер|Текстиль и к...\n",
       "28                 Для дома и дачи|Мебель и интерьер|Освещение\n",
       "29           Для дома и дачи|Бытовая техника|Для кухни|Мелк...\n",
       "30              Личные вещи|Товары для детей и игрушки|Игрушки\n",
       "31            Личные вещи|Одежда, обувь, аксессуары|Аксессуары\n",
       "32           Личные вещи|Товары для детей и игрушки|Детские...\n",
       "33           Личные вещи|Одежда, обувь, аксессуары|Женская ...\n",
       "34           Личные вещи|Товары для детей и игрушки|Детская...\n",
       "35           Личные вещи|Одежда, обувь, аксессуары|Женская ...\n",
       "36                           Личные вещи|Часы и украшения|Часы\n",
       "37           Личные вещи|Красота и здоровье|Приборы и аксес...\n",
       "38           Личные вещи|Одежда, обувь, аксессуары|Женская ...\n",
       "39           Личные вещи|Одежда, обувь, аксессуары|Женская ...\n",
       "40              Личные вещи|Часы и украшения|Ювелирные изделия\n",
       "41           Личные вещи|Товары для детей и игрушки|Товары ...\n",
       "42              Хобби и отдых|Спорт и отдых|Зимние виды спорта\n",
       "43                         Хобби и отдых|Книги и журналы|Книги\n",
       "44                     Хобби и отдых|Коллекционирование|Другое\n",
       "45                     Хобби и отдых|Коллекционирование|Монеты\n",
       "46              Хобби и отдых|Спорт и отдых|Фитнес и тренажёры\n",
       "47                          Хобби и отдых|Спорт и отдых|Другое\n",
       "48              Хобби и отдых|Билеты и путешествия|Путешествия\n",
       "49                               Хобби и отдых|Охота и рыбалка\n",
       "50           Хобби и отдых|Музыкальные инструменты|Гитары и...\n",
       "51            Хобби и отдых|Книги и журналы|Учебная литература\n",
       "52           Хобби и отдых|Музыкальные инструменты|Для студ...\n",
       "53              Хобби и отдых|Велосипеды|Запчасти и аксессуары"
      ]
     },
     "execution_count": 68,
     "metadata": {},
     "output_type": "execute_result"
    }
   ],
   "source": [
    "categories"
   ]
  },
  {
   "cell_type": "markdown",
   "metadata": {},
   "source": [
    "Категории имеют иерархичную структуру => есть 2 способа решения задачи:\n",
    "\n",
    "    1) Построить один классификатор и сразу предсказывать категорию, но тогда теряется структура в данных\n",
    "    2) Построить множество классификаторов отдельно для каждой категории/подкатегории\n",
    "Воспользуюсь вторым вариантом"
   ]
  },
  {
   "cell_type": "code",
   "execution_count": 11,
   "metadata": {
    "scrolled": true
   },
   "outputs": [
    {
     "data": {
      "text/plain": [
       "49    9998\n",
       "18    9932\n",
       "29    9904\n",
       "2     9887\n",
       "37    9884\n",
       "23    9804\n",
       "39    9798\n",
       "21    9767\n",
       "45    9755\n",
       "27    9732\n",
       "11    9674\n",
       "44    9668\n",
       "35    9661\n",
       "22    9655\n",
       "47    9638\n",
       "53    9601\n",
       "28    9573\n",
       "32    9451\n",
       "15    9435\n",
       "12    9416\n",
       "50    9379\n",
       "52    9264\n",
       "42    9260\n",
       "36    9232\n",
       "17    9213\n",
       "20    9142\n",
       "43    9065\n",
       "13    9008\n",
       "24    8972\n",
       "26    8948\n",
       "34    8917\n",
       "19    8906\n",
       "41    8879\n",
       "0     8862\n",
       "48    8819\n",
       "10    8769\n",
       "8     8698\n",
       "6     8697\n",
       "4     8616\n",
       "3     8604\n",
       "7     8592\n",
       "51    8584\n",
       "38    8516\n",
       "31    8495\n",
       "16    8405\n",
       "46    8343\n",
       "5     8241\n",
       "33    8234\n",
       "14    8231\n",
       "30    8223\n",
       "25    8106\n",
       "9     8033\n",
       "1     8022\n",
       "40    8009\n",
       "Name: category_id, dtype: int64"
      ]
     },
     "execution_count": 11,
     "metadata": {},
     "output_type": "execute_result"
    }
   ],
   "source": [
    "train['category_id'].value_counts()"
   ]
  },
  {
   "cell_type": "markdown",
   "metadata": {},
   "source": [
    "Target распределен примерно одинаково среди всех классов"
   ]
  },
  {
   "cell_type": "markdown",
   "metadata": {},
   "source": [
    "## Price"
   ]
  },
  {
   "cell_type": "code",
   "execution_count": 12,
   "metadata": {},
   "outputs": [
    {
     "data": {
      "text/plain": [
       "count    4.895170e+05\n",
       "mean     8.795970e+03\n",
       "std      7.158194e+04\n",
       "min      1.300000e+01\n",
       "25%      7.500000e+02\n",
       "50%      2.400000e+03\n",
       "75%      7.000000e+03\n",
       "max      1.000000e+07\n",
       "Name: price, dtype: float64"
      ]
     },
     "execution_count": 12,
     "metadata": {},
     "output_type": "execute_result"
    }
   ],
   "source": [
    "train['price'].describe()"
   ]
  },
  {
   "cell_type": "code",
   "execution_count": 13,
   "metadata": {},
   "outputs": [
    {
     "data": {
      "text/plain": [
       "Text(0.5, 0, 'Instances')"
      ]
     },
     "execution_count": 13,
     "metadata": {},
     "output_type": "execute_result"
    },
    {
     "data": {
      "image/png": "[encoded data removed]",
      "text/plain": [
       "<Figure size 720x576 with 1 Axes>"
      ]
     },
     "metadata": {
      "needs_background": "light"
     },
     "output_type": "display_data"
    }
   ],
   "source": [
    "plt.figure(figsize=(10, 8))\n",
    "plt.plot(train['price'].index, sorted(np.log(train['price'])))\n",
    "plt.title('Price distribution')\n",
    "plt.ylabel('Price')\n",
    "plt.xlabel('Instances')"
   ]
  },
  {
   "cell_type": "markdown",
   "metadata": {},
   "source": [
    "Добавлю новый признак - количество цифр в числе, так как при последующей нормализации эта информация потеряется"
   ]
  },
  {
   "cell_type": "code",
   "execution_count": 14,
   "metadata": {},
   "outputs": [],
   "source": [
    "price_digits = train['price'].apply(lambda z: int(np.log10(z))+1)\n",
    "train = train.assign(price_digits=price_digits)"
   ]
  },
  {
   "cell_type": "code",
   "execution_count": 15,
   "metadata": {},
   "outputs": [
    {
     "data": {
      "text/html": [
       "<div>\n",
       "<style scoped>\n",
       "    .dataframe tbody tr th:only-of-type {\n",
       "        vertical-align: middle;\n",
       "    }\n",
       "\n",
       "    .dataframe tbody tr th {\n",
       "        vertical-align: top;\n",
       "    }\n",
       "\n",
       "    .dataframe thead th {\n",
       "        text-align: right;\n",
       "    }\n",
       "</style>\n",
       "<table border=\"1\" class=\"dataframe\">\n",
       "  <thead>\n",
       "    <tr style=\"text-align: right;\">\n",
       "      <th></th>\n",
       "      <th>title</th>\n",
       "      <th>description</th>\n",
       "      <th>price</th>\n",
       "      <th>category_id</th>\n",
       "      <th>price_digits</th>\n",
       "    </tr>\n",
       "    <tr>\n",
       "      <th>item_id</th>\n",
       "      <th></th>\n",
       "      <th></th>\n",
       "      <th></th>\n",
       "      <th></th>\n",
       "      <th></th>\n",
       "    </tr>\n",
       "  </thead>\n",
       "  <tbody>\n",
       "    <tr>\n",
       "      <th>0</th>\n",
       "      <td>Картина</td>\n",
       "      <td>Гобелен. Размеры 139х84см.</td>\n",
       "      <td>1000.0</td>\n",
       "      <td>19</td>\n",
       "      <td>4</td>\n",
       "    </tr>\n",
       "    <tr>\n",
       "      <th>1</th>\n",
       "      <td>Стулья из прессованной кожи</td>\n",
       "      <td>Продам недорого 4 стула из светлой прессованно...</td>\n",
       "      <td>1250.0</td>\n",
       "      <td>22</td>\n",
       "      <td>4</td>\n",
       "    </tr>\n",
       "    <tr>\n",
       "      <th>2</th>\n",
       "      <td>Домашняя мини баня</td>\n",
       "      <td>Мини баня МБ-1(мини сауна), предназначена для ...</td>\n",
       "      <td>13000.0</td>\n",
       "      <td>37</td>\n",
       "      <td>5</td>\n",
       "    </tr>\n",
       "    <tr>\n",
       "      <th>3</th>\n",
       "      <td>Эксклюзивная коллекция книг \"Трансаэро\" + подарок</td>\n",
       "      <td>Продам эксклюзивную коллекцию книг, выпущенную...</td>\n",
       "      <td>4000.0</td>\n",
       "      <td>43</td>\n",
       "      <td>4</td>\n",
       "    </tr>\n",
       "    <tr>\n",
       "      <th>4</th>\n",
       "      <td>Ноутбук aser</td>\n",
       "      <td>Продаётся ноутбук ACER e5-511C2TA. Куплен в ко...</td>\n",
       "      <td>19000.0</td>\n",
       "      <td>1</td>\n",
       "      <td>5</td>\n",
       "    </tr>\n",
       "  </tbody>\n",
       "</table>\n",
       "</div>"
      ],
      "text/plain": [
       "                                                     title  \\\n",
       "item_id                                                      \n",
       "0                                                  Картина   \n",
       "1                              Стулья из прессованной кожи   \n",
       "2                                       Домашняя мини баня   \n",
       "3        Эксклюзивная коллекция книг \"Трансаэро\" + подарок   \n",
       "4                                             Ноутбук aser   \n",
       "\n",
       "                                               description    price  \\\n",
       "item_id                                                               \n",
       "0                               Гобелен. Размеры 139х84см.   1000.0   \n",
       "1        Продам недорого 4 стула из светлой прессованно...   1250.0   \n",
       "2        Мини баня МБ-1(мини сауна), предназначена для ...  13000.0   \n",
       "3        Продам эксклюзивную коллекцию книг, выпущенную...   4000.0   \n",
       "4        Продаётся ноутбук ACER e5-511C2TA. Куплен в ко...  19000.0   \n",
       "\n",
       "         category_id  price_digits  \n",
       "item_id                             \n",
       "0                 19             4  \n",
       "1                 22             4  \n",
       "2                 37             5  \n",
       "3                 43             4  \n",
       "4                  1             5  "
      ]
     },
     "execution_count": 15,
     "metadata": {},
     "output_type": "execute_result"
    }
   ],
   "source": [
    "train.head()"
   ]
  },
  {
   "cell_type": "markdown",
   "metadata": {},
   "source": [
    "## Title  и Description"
   ]
  },
  {
   "cell_type": "markdown",
   "metadata": {},
   "source": [
    "### Приводим к нижнему регистру"
   ]
  },
  {
   "cell_type": "code",
   "execution_count": 16,
   "metadata": {},
   "outputs": [],
   "source": [
    "text_cols = ['title', 'description']"
   ]
  },
  {
   "cell_type": "code",
   "execution_count": 17,
   "metadata": {},
   "outputs": [],
   "source": [
    "for col in text_cols:\n",
    "    train[col] = train[col].str.lower()"
   ]
  },
  {
   "cell_type": "code",
   "execution_count": 18,
   "metadata": {},
   "outputs": [],
   "source": [
    "length = 0\n",
    "for i in train['title']:\n",
    "    length += len(i)\n",
    "mean_length = length / train.shape[0]"
   ]
  },
  {
   "cell_type": "markdown",
   "metadata": {},
   "source": [
    "### Средняя длина Title:"
   ]
  },
  {
   "cell_type": "code",
   "execution_count": 19,
   "metadata": {},
   "outputs": [
    {
     "data": {
      "text/plain": [
       "25.24790763139993"
      ]
     },
     "execution_count": 19,
     "metadata": {},
     "output_type": "execute_result"
    }
   ],
   "source": [
    "mean_length"
   ]
  },
  {
   "cell_type": "code",
   "execution_count": 2,
   "metadata": {},
   "outputs": [],
   "source": [
    "from nltk.tokenize import word_tokenize"
   ]
  },
  {
   "cell_type": "code",
   "execution_count": 21,
   "metadata": {},
   "outputs": [],
   "source": [
    "for col in text_cols:\n",
    "    train[col] = train[col].apply(word_tokenize)"
   ]
  },
  {
   "cell_type": "code",
   "execution_count": 22,
   "metadata": {
    "scrolled": true
   },
   "outputs": [
    {
     "data": {
      "text/html": [
       "<div>\n",
       "<style scoped>\n",
       "    .dataframe tbody tr th:only-of-type {\n",
       "        vertical-align: middle;\n",
       "    }\n",
       "\n",
       "    .dataframe tbody tr th {\n",
       "        vertical-align: top;\n",
       "    }\n",
       "\n",
       "    .dataframe thead th {\n",
       "        text-align: right;\n",
       "    }\n",
       "</style>\n",
       "<table border=\"1\" class=\"dataframe\">\n",
       "  <thead>\n",
       "    <tr style=\"text-align: right;\">\n",
       "      <th></th>\n",
       "      <th>title</th>\n",
       "      <th>description</th>\n",
       "    </tr>\n",
       "    <tr>\n",
       "      <th>item_id</th>\n",
       "      <th></th>\n",
       "      <th></th>\n",
       "    </tr>\n",
       "  </thead>\n",
       "  <tbody>\n",
       "    <tr>\n",
       "      <th>0</th>\n",
       "      <td>[картина]</td>\n",
       "      <td>[гобелен, ., размеры, 139х84см, .]</td>\n",
       "    </tr>\n",
       "    <tr>\n",
       "      <th>1</th>\n",
       "      <td>[стулья, из, прессованной, кожи]</td>\n",
       "      <td>[продам, недорого, 4, стула, из, светлой, прес...</td>\n",
       "    </tr>\n",
       "    <tr>\n",
       "      <th>2</th>\n",
       "      <td>[домашняя, мини, баня]</td>\n",
       "      <td>[мини, баня, мб-1, (, мини, сауна, ), ,, предн...</td>\n",
       "    </tr>\n",
       "    <tr>\n",
       "      <th>3</th>\n",
       "      <td>[эксклюзивная, коллекция, книг, ``, трансаэро,...</td>\n",
       "      <td>[продам, эксклюзивную, коллекцию, книг, ,, вып...</td>\n",
       "    </tr>\n",
       "    <tr>\n",
       "      <th>4</th>\n",
       "      <td>[ноутбук, aser]</td>\n",
       "      <td>[продаётся, ноутбук, acer, e5-511c2ta, ., купл...</td>\n",
       "    </tr>\n",
       "    <tr>\n",
       "      <th>5</th>\n",
       "      <td>[бас, гитара, invasion, bg110]</td>\n",
       "      <td>[состояние, хорошее, ., имеется, теплый, чехол...</td>\n",
       "    </tr>\n",
       "    <tr>\n",
       "      <th>6</th>\n",
       "      <td>[смесь, ``, грудничок, '', г., зеленодольск]</td>\n",
       "      <td>[смесь, молочная, адаптированная, ультрапастер...</td>\n",
       "    </tr>\n",
       "    <tr>\n",
       "      <th>7</th>\n",
       "      <td>[gshock]</td>\n",
       "      <td>[часы, абсолютно, новые, !, с, коробкой, ., ча...</td>\n",
       "    </tr>\n",
       "    <tr>\n",
       "      <th>8</th>\n",
       "      <td>[санатории, белоруссии, ., -, ``, лепельский, ...</td>\n",
       "      <td>[санатории, белоруссии, !, -, «, лепельский, в...</td>\n",
       "    </tr>\n",
       "    <tr>\n",
       "      <th>9</th>\n",
       "      <td>[фотохолст]</td>\n",
       "      <td>[фотохолст, на, подрамнике, ., 36х58см, ., гал...</td>\n",
       "    </tr>\n",
       "    <tr>\n",
       "      <th>10</th>\n",
       "      <td>[ботильоны, nando, muzi]</td>\n",
       "      <td>[в, хорошем, состоянии, ,, тёмно-коричневый, ц...</td>\n",
       "    </tr>\n",
       "    <tr>\n",
       "      <th>11</th>\n",
       "      <td>[игрушка, playgro, ,, лев]</td>\n",
       "      <td>[игрушка, playgro, ,, б/у, ,, состояние, отлич...</td>\n",
       "    </tr>\n",
       "    <tr>\n",
       "      <th>12</th>\n",
       "      <td>[кроватка, для, младенца]</td>\n",
       "      <td>[кроватка, для, новорожденного, регулируется, ...</td>\n",
       "    </tr>\n",
       "    <tr>\n",
       "      <th>13</th>\n",
       "      <td>[продам, утяжелители, поясные, новые]</td>\n",
       "      <td>[продам, утяжелители, поясные, новые, ,, 2, кг...</td>\n",
       "    </tr>\n",
       "    <tr>\n",
       "      <th>14</th>\n",
       "      <td>[цилиндрическая, люстра]</td>\n",
       "      <td>[продам, люстру, ,, в, отличном, состоянии]</td>\n",
       "    </tr>\n",
       "    <tr>\n",
       "      <th>15</th>\n",
       "      <td>[фацелия, пижмолистная]</td>\n",
       "      <td>[семена, фацелии-отличный, медонос, ,, нетребо...</td>\n",
       "    </tr>\n",
       "    <tr>\n",
       "      <th>16</th>\n",
       "      <td>[стол, письменный, икеа]</td>\n",
       "      <td>[в, хорошем, состоянии, ., с, полочками, .105,...</td>\n",
       "    </tr>\n",
       "    <tr>\n",
       "      <th>17</th>\n",
       "      <td>[станок]</td>\n",
       "      <td>[продам, деревообрабатывающий, станок, ., на, ...</td>\n",
       "    </tr>\n",
       "    <tr>\n",
       "      <th>18</th>\n",
       "      <td>[продам, коляску, bebecar, ip-op, 3в1, португа...</td>\n",
       "      <td>[продам, нашу, любимую, колясочку, bebecar, ip...</td>\n",
       "    </tr>\n",
       "    <tr>\n",
       "      <th>19</th>\n",
       "      <td>[пальто]</td>\n",
       "      <td>[продаю, пальто, надеялась, несколько, раз, .....</td>\n",
       "    </tr>\n",
       "    <tr>\n",
       "      <th>20</th>\n",
       "      <td>[алмазная, вышивка]</td>\n",
       "      <td>[продажа, творческих, наборов, алмазная, вышив...</td>\n",
       "    </tr>\n",
       "    <tr>\n",
       "      <th>21</th>\n",
       "      <td>[spotlight, 6]</td>\n",
       "      <td>[абсолютно, новый, ,, никто, ни, разу, не, учи...</td>\n",
       "    </tr>\n",
       "    <tr>\n",
       "      <th>22</th>\n",
       "      <td>[прибор, для, гидромассажа, sanitos, sls30]</td>\n",
       "      <td>[продаю, прибор, для, гидромассажа, ., б.у, .,...</td>\n",
       "    </tr>\n",
       "    <tr>\n",
       "      <th>23</th>\n",
       "      <td>[стенка, для, подростков]</td>\n",
       "      <td>[продам, детскую/подростковую, стенку, :, шкаф...</td>\n",
       "    </tr>\n",
       "    <tr>\n",
       "      <th>24</th>\n",
       "      <td>[wi-fi, роутер, tp-link]</td>\n",
       "      <td>[продам, новый, wi-fi, роутер, tp-link, .]</td>\n",
       "    </tr>\n",
       "    <tr>\n",
       "      <th>25</th>\n",
       "      <td>[жк, телевизор, philips]</td>\n",
       "      <td>[телевизор, в, хорошем, состоянии, ., диагонал...</td>\n",
       "    </tr>\n",
       "    <tr>\n",
       "      <th>26</th>\n",
       "      <td>[xbox, 360, e]</td>\n",
       "      <td>[продам, xbox, 360, e, 250, gb, ,, один, джойс...</td>\n",
       "    </tr>\n",
       "    <tr>\n",
       "      <th>27</th>\n",
       "      <td>[samsung, galaxy, s2]</td>\n",
       "      <td>[i9105, ,, galaxy, s2+, (, plus, ), в, новом, ...</td>\n",
       "    </tr>\n",
       "    <tr>\n",
       "      <th>28</th>\n",
       "      <td>[пуховик]</td>\n",
       "      <td>[пуховик, теплый, ,, до, -20, вполне, комфортн...</td>\n",
       "    </tr>\n",
       "    <tr>\n",
       "      <th>29</th>\n",
       "      <td>[столовые, пренадлежности]</td>\n",
       "      <td>[не, использованные, наборы, ,, в, каждом, по,...</td>\n",
       "    </tr>\n",
       "    <tr>\n",
       "      <th>...</th>\n",
       "      <td>...</td>\n",
       "      <td>...</td>\n",
       "    </tr>\n",
       "    <tr>\n",
       "      <th>489487</th>\n",
       "      <td>[романтический, тур, на, день, святого, валент...</td>\n",
       "      <td>[💖💖романтический, тур, на, день, святого, вале...</td>\n",
       "    </tr>\n",
       "    <tr>\n",
       "      <th>489488</th>\n",
       "      <td>[учебник, по, английскому]</td>\n",
       "      <td>[учебник, по, американскому-английскому, (, дл...</td>\n",
       "    </tr>\n",
       "    <tr>\n",
       "      <th>489489</th>\n",
       "      <td>[dexp, ixion, m150, storm]</td>\n",
       "      <td>[смартфон, в, отличном, состоянии, ,, в, полно...</td>\n",
       "    </tr>\n",
       "    <tr>\n",
       "      <th>489490</th>\n",
       "      <td>[чехол, для, айфон, /, iphone]</td>\n",
       "      <td>[высота, 13.5, см, ,, ширина, 6, см, ,, толщин...</td>\n",
       "    </tr>\n",
       "    <tr>\n",
       "      <th>489491</th>\n",
       "      <td>[доска, сухая, бу]</td>\n",
       "      <td>[в, кубе, 32, шт, 25, длинной, 240, ., 32, шт,...</td>\n",
       "    </tr>\n",
       "    <tr>\n",
       "      <th>489492</th>\n",
       "      <td>[ручка, ``, iveco, '']</td>\n",
       "      <td>[фирменная, подарочная, шариковая, ручка, ``, ...</td>\n",
       "    </tr>\n",
       "    <tr>\n",
       "      <th>489493</th>\n",
       "      <td>[звуковая, карта, yamaha, audiogram, 3]</td>\n",
       "      <td>[продаю, простую, и, удобную, аудиокарту, usb,...</td>\n",
       "    </tr>\n",
       "    <tr>\n",
       "      <th>489494</th>\n",
       "      <td>[кровать, двуспальная]</td>\n",
       "      <td>[кровать, размер, 2040*1450, ,, деревянный, ка...</td>\n",
       "    </tr>\n",
       "    <tr>\n",
       "      <th>489495</th>\n",
       "      <td>[новая, нерж, кастрюля, с, крыш, на, 4.5, л]</td>\n",
       "      <td>[новая, нерж, кастрюля, с, крыш, на, 4,5, л, в...</td>\n",
       "    </tr>\n",
       "    <tr>\n",
       "      <th>489496</th>\n",
       "      <td>[металлоискатель, garrett, ace-250]</td>\n",
       "      <td>[отличный, поисковый, прибор, за, небольшие, д...</td>\n",
       "    </tr>\n",
       "    <tr>\n",
       "      <th>489497</th>\n",
       "      <td>[samsung, a3, duos, 4g, lte, в, отличном, сост...</td>\n",
       "      <td>[телефон, в, отличном, состоянии, ., куплен, в...</td>\n",
       "    </tr>\n",
       "    <tr>\n",
       "      <th>489498</th>\n",
       "      <td>[монитор, lg, flatron, 17, '', f720p]</td>\n",
       "      <td>[продам, монитор, lg, f720p, ,, диагональ, 17,...</td>\n",
       "    </tr>\n",
       "    <tr>\n",
       "      <th>489499</th>\n",
       "      <td>[новая, настольная, лампа, из, серии, палермо]</td>\n",
       "      <td>[цены, уточняйте, по, артикулу, !, мы, являемс...</td>\n",
       "    </tr>\n",
       "    <tr>\n",
       "      <th>489500</th>\n",
       "      <td>[коляска, jetem, prizm]</td>\n",
       "      <td>[коляска, прогулочная, -, вездеход, jetem, pri...</td>\n",
       "    </tr>\n",
       "    <tr>\n",
       "      <th>489501</th>\n",
       "      <td>[samsung, u28d590d]</td>\n",
       "      <td>[продам, монитор, разрешение, 4к, жк-монитор, ...</td>\n",
       "    </tr>\n",
       "    <tr>\n",
       "      <th>489502</th>\n",
       "      <td>[lg, l70, и, samsung, galaxy, star]</td>\n",
       "      <td>[lg, l70, разбито, стекло, и, зад, крышка, .sa...</td>\n",
       "    </tr>\n",
       "    <tr>\n",
       "      <th>489503</th>\n",
       "      <td>[монеты, серии, ``, красная, книга, ., '']</td>\n",
       "      <td>[продам, серию, монет, ``, красная, книга, '',...</td>\n",
       "    </tr>\n",
       "    <tr>\n",
       "      <th>489504</th>\n",
       "      <td>[электронные, качели, graco]</td>\n",
       "      <td>[в, отличном, состоянии, ., покупали, за, 12,5...</td>\n",
       "    </tr>\n",
       "    <tr>\n",
       "      <th>489505</th>\n",
       "      <td>[диван, черный, кожаный, офисный]</td>\n",
       "      <td>[кожаный, диван, ., цвет, чёрный, ., состояние...</td>\n",
       "    </tr>\n",
       "    <tr>\n",
       "      <th>489506</th>\n",
       "      <td>[цифровой, дилей, mooer, repeater]</td>\n",
       "      <td>[эффект, задержки, ., состояние, отличное, ., ...</td>\n",
       "    </tr>\n",
       "    <tr>\n",
       "      <th>489507</th>\n",
       "      <td>[женский, кошелёк, guess]</td>\n",
       "      <td>[новый, женский, кошелёк, фирмы, guess, ,, ярк...</td>\n",
       "    </tr>\n",
       "    <tr>\n",
       "      <th>489508</th>\n",
       "      <td>[бамбуковое, полотно, ламель, лак, 17мм, натур...</td>\n",
       "      <td>[цена, указана, за, метр, погонный, размер, ру...</td>\n",
       "    </tr>\n",
       "    <tr>\n",
       "      <th>489509</th>\n",
       "      <td>[прожектор, led, moon]</td>\n",
       "      <td>[очень, !, маленький, эффект, вращающегося, ``...</td>\n",
       "    </tr>\n",
       "    <tr>\n",
       "      <th>489510</th>\n",
       "      <td>[кухоннный, стол]</td>\n",
       "      <td>[срочно, продается, кухонный, стол, в, отлично...</td>\n",
       "    </tr>\n",
       "    <tr>\n",
       "      <th>489511</th>\n",
       "      <td>[продам, лыжи, и, сноуборды]</td>\n",
       "      <td>[продам, лыжи, ,, размеры, :, 150, ,, 152, ,, ...</td>\n",
       "    </tr>\n",
       "    <tr>\n",
       "      <th>489512</th>\n",
       "      <td>[music, man, jp6, piezo]</td>\n",
       "      <td>[гитара, новая, в, жестком, кейсе, ., цвет, чё...</td>\n",
       "    </tr>\n",
       "    <tr>\n",
       "      <th>489513</th>\n",
       "      <td>[резолюции, и, постановления, пленумов, цк, вк...</td>\n",
       "      <td>[резолюции, и, постановления, пленумов, цк, вк...</td>\n",
       "    </tr>\n",
       "    <tr>\n",
       "      <th>489514</th>\n",
       "      <td>[дверь, входная, металлическая, китайская]</td>\n",
       "      <td>[входная, металлическая, дверь, кайзер, е40м, ...</td>\n",
       "    </tr>\n",
       "    <tr>\n",
       "      <th>489515</th>\n",
       "      <td>[чехол, на, samsung, s6, duos]</td>\n",
       "      <td>[продам, чехол-книжку, на, магните.цена, 300, ...</td>\n",
       "    </tr>\n",
       "    <tr>\n",
       "      <th>489516</th>\n",
       "      <td>[продаю, бас-гитару, и, басовый, усилитель]</td>\n",
       "      <td>[бас-гитара, фирмы, cort, ,, модель, gb-pj, .,...</td>\n",
       "    </tr>\n",
       "  </tbody>\n",
       "</table>\n",
       "<p>489517 rows × 2 columns</p>\n",
       "</div>"
      ],
      "text/plain": [
       "                                                     title  \\\n",
       "item_id                                                      \n",
       "0                                                [картина]   \n",
       "1                         [стулья, из, прессованной, кожи]   \n",
       "2                                   [домашняя, мини, баня]   \n",
       "3        [эксклюзивная, коллекция, книг, ``, трансаэро,...   \n",
       "4                                          [ноутбук, aser]   \n",
       "5                           [бас, гитара, invasion, bg110]   \n",
       "6             [смесь, ``, грудничок, '', г., зеленодольск]   \n",
       "7                                                 [gshock]   \n",
       "8        [санатории, белоруссии, ., -, ``, лепельский, ...   \n",
       "9                                              [фотохолст]   \n",
       "10                                [ботильоны, nando, muzi]   \n",
       "11                              [игрушка, playgro, ,, лев]   \n",
       "12                               [кроватка, для, младенца]   \n",
       "13                   [продам, утяжелители, поясные, новые]   \n",
       "14                                [цилиндрическая, люстра]   \n",
       "15                                 [фацелия, пижмолистная]   \n",
       "16                                [стол, письменный, икеа]   \n",
       "17                                                [станок]   \n",
       "18       [продам, коляску, bebecar, ip-op, 3в1, португа...   \n",
       "19                                                [пальто]   \n",
       "20                                     [алмазная, вышивка]   \n",
       "21                                          [spotlight, 6]   \n",
       "22             [прибор, для, гидромассажа, sanitos, sls30]   \n",
       "23                               [стенка, для, подростков]   \n",
       "24                                [wi-fi, роутер, tp-link]   \n",
       "25                                [жк, телевизор, philips]   \n",
       "26                                          [xbox, 360, e]   \n",
       "27                                   [samsung, galaxy, s2]   \n",
       "28                                               [пуховик]   \n",
       "29                              [столовые, пренадлежности]   \n",
       "...                                                    ...   \n",
       "489487   [романтический, тур, на, день, святого, валент...   \n",
       "489488                          [учебник, по, английскому]   \n",
       "489489                          [dexp, ixion, m150, storm]   \n",
       "489490                      [чехол, для, айфон, /, iphone]   \n",
       "489491                                  [доска, сухая, бу]   \n",
       "489492                              [ручка, ``, iveco, '']   \n",
       "489493             [звуковая, карта, yamaha, audiogram, 3]   \n",
       "489494                              [кровать, двуспальная]   \n",
       "489495        [новая, нерж, кастрюля, с, крыш, на, 4.5, л]   \n",
       "489496                 [металлоискатель, garrett, ace-250]   \n",
       "489497   [samsung, a3, duos, 4g, lte, в, отличном, сост...   \n",
       "489498               [монитор, lg, flatron, 17, '', f720p]   \n",
       "489499      [новая, настольная, лампа, из, серии, палермо]   \n",
       "489500                             [коляска, jetem, prizm]   \n",
       "489501                                 [samsung, u28d590d]   \n",
       "489502                 [lg, l70, и, samsung, galaxy, star]   \n",
       "489503          [монеты, серии, ``, красная, книга, ., '']   \n",
       "489504                        [электронные, качели, graco]   \n",
       "489505                   [диван, черный, кожаный, офисный]   \n",
       "489506                  [цифровой, дилей, mooer, repeater]   \n",
       "489507                           [женский, кошелёк, guess]   \n",
       "489508   [бамбуковое, полотно, ламель, лак, 17мм, натур...   \n",
       "489509                              [прожектор, led, moon]   \n",
       "489510                                   [кухоннный, стол]   \n",
       "489511                        [продам, лыжи, и, сноуборды]   \n",
       "489512                            [music, man, jp6, piezo]   \n",
       "489513   [резолюции, и, постановления, пленумов, цк, вк...   \n",
       "489514          [дверь, входная, металлическая, китайская]   \n",
       "489515                      [чехол, на, samsung, s6, duos]   \n",
       "489516         [продаю, бас-гитару, и, басовый, усилитель]   \n",
       "\n",
       "                                               description  \n",
       "item_id                                                     \n",
       "0                       [гобелен, ., размеры, 139х84см, .]  \n",
       "1        [продам, недорого, 4, стула, из, светлой, прес...  \n",
       "2        [мини, баня, мб-1, (, мини, сауна, ), ,, предн...  \n",
       "3        [продам, эксклюзивную, коллекцию, книг, ,, вып...  \n",
       "4        [продаётся, ноутбук, acer, e5-511c2ta, ., купл...  \n",
       "5        [состояние, хорошее, ., имеется, теплый, чехол...  \n",
       "6        [смесь, молочная, адаптированная, ультрапастер...  \n",
       "7        [часы, абсолютно, новые, !, с, коробкой, ., ча...  \n",
       "8        [санатории, белоруссии, !, -, «, лепельский, в...  \n",
       "9        [фотохолст, на, подрамнике, ., 36х58см, ., гал...  \n",
       "10       [в, хорошем, состоянии, ,, тёмно-коричневый, ц...  \n",
       "11       [игрушка, playgro, ,, б/у, ,, состояние, отлич...  \n",
       "12       [кроватка, для, новорожденного, регулируется, ...  \n",
       "13       [продам, утяжелители, поясные, новые, ,, 2, кг...  \n",
       "14             [продам, люстру, ,, в, отличном, состоянии]  \n",
       "15       [семена, фацелии-отличный, медонос, ,, нетребо...  \n",
       "16       [в, хорошем, состоянии, ., с, полочками, .105,...  \n",
       "17       [продам, деревообрабатывающий, станок, ., на, ...  \n",
       "18       [продам, нашу, любимую, колясочку, bebecar, ip...  \n",
       "19       [продаю, пальто, надеялась, несколько, раз, .....  \n",
       "20       [продажа, творческих, наборов, алмазная, вышив...  \n",
       "21       [абсолютно, новый, ,, никто, ни, разу, не, учи...  \n",
       "22       [продаю, прибор, для, гидромассажа, ., б.у, .,...  \n",
       "23       [продам, детскую/подростковую, стенку, :, шкаф...  \n",
       "24              [продам, новый, wi-fi, роутер, tp-link, .]  \n",
       "25       [телевизор, в, хорошем, состоянии, ., диагонал...  \n",
       "26       [продам, xbox, 360, e, 250, gb, ,, один, джойс...  \n",
       "27       [i9105, ,, galaxy, s2+, (, plus, ), в, новом, ...  \n",
       "28       [пуховик, теплый, ,, до, -20, вполне, комфортн...  \n",
       "29       [не, использованные, наборы, ,, в, каждом, по,...  \n",
       "...                                                    ...  \n",
       "489487   [💖💖романтический, тур, на, день, святого, вале...  \n",
       "489488   [учебник, по, американскому-английскому, (, дл...  \n",
       "489489   [смартфон, в, отличном, состоянии, ,, в, полно...  \n",
       "489490   [высота, 13.5, см, ,, ширина, 6, см, ,, толщин...  \n",
       "489491   [в, кубе, 32, шт, 25, длинной, 240, ., 32, шт,...  \n",
       "489492   [фирменная, подарочная, шариковая, ручка, ``, ...  \n",
       "489493   [продаю, простую, и, удобную, аудиокарту, usb,...  \n",
       "489494   [кровать, размер, 2040*1450, ,, деревянный, ка...  \n",
       "489495   [новая, нерж, кастрюля, с, крыш, на, 4,5, л, в...  \n",
       "489496   [отличный, поисковый, прибор, за, небольшие, д...  \n",
       "489497   [телефон, в, отличном, состоянии, ., куплен, в...  \n",
       "489498   [продам, монитор, lg, f720p, ,, диагональ, 17,...  \n",
       "489499   [цены, уточняйте, по, артикулу, !, мы, являемс...  \n",
       "489500   [коляска, прогулочная, -, вездеход, jetem, pri...  \n",
       "489501   [продам, монитор, разрешение, 4к, жк-монитор, ...  \n",
       "489502   [lg, l70, разбито, стекло, и, зад, крышка, .sa...  \n",
       "489503   [продам, серию, монет, ``, красная, книга, '',...  \n",
       "489504   [в, отличном, состоянии, ., покупали, за, 12,5...  \n",
       "489505   [кожаный, диван, ., цвет, чёрный, ., состояние...  \n",
       "489506   [эффект, задержки, ., состояние, отличное, ., ...  \n",
       "489507   [новый, женский, кошелёк, фирмы, guess, ,, ярк...  \n",
       "489508   [цена, указана, за, метр, погонный, размер, ру...  \n",
       "489509   [очень, !, маленький, эффект, вращающегося, ``...  \n",
       "489510   [срочно, продается, кухонный, стол, в, отлично...  \n",
       "489511   [продам, лыжи, ,, размеры, :, 150, ,, 152, ,, ...  \n",
       "489512   [гитара, новая, в, жестком, кейсе, ., цвет, чё...  \n",
       "489513   [резолюции, и, постановления, пленумов, цк, вк...  \n",
       "489514   [входная, металлическая, дверь, кайзер, е40м, ...  \n",
       "489515   [продам, чехол-книжку, на, магните.цена, 300, ...  \n",
       "489516   [бас-гитара, фирмы, cort, ,, модель, gb-pj, .,...  \n",
       "\n",
       "[489517 rows x 2 columns]"
      ]
     },
     "execution_count": 22,
     "metadata": {},
     "output_type": "execute_result"
    }
   ],
   "source": [
    "train[text_cols]"
   ]
  },
  {
   "cell_type": "code",
   "execution_count": 23,
   "metadata": {},
   "outputs": [],
   "source": [
    "words = 0\n",
    "for i in train['title']:\n",
    "    length += len(i)\n",
    "mean_amount_of_words = length / train.shape[0]"
   ]
  },
  {
   "cell_type": "markdown",
   "metadata": {},
   "source": [
    "### Среднее количество слов:"
   ]
  },
  {
   "cell_type": "code",
   "execution_count": 24,
   "metadata": {},
   "outputs": [
    {
     "data": {
      "text/plain": [
       "29.409374955313094"
      ]
     },
     "execution_count": 24,
     "metadata": {},
     "output_type": "execute_result"
    }
   ],
   "source": [
    "mean_amount_of_words"
   ]
  },
  {
   "cell_type": "markdown",
   "metadata": {},
   "source": [
    "### Оставлю только \"слова\" русского и английского алфавита."
   ]
  },
  {
   "cell_type": "code",
   "execution_count": 25,
   "metadata": {},
   "outputs": [],
   "source": [
    "for col in text_cols:\n",
    "    train[col] = train[col].apply(lambda x: [w for w in x if w.isalpha()])"
   ]
  },
  {
   "cell_type": "code",
   "execution_count": 26,
   "metadata": {},
   "outputs": [
    {
     "data": {
      "text/html": [
       "<div>\n",
       "<style scoped>\n",
       "    .dataframe tbody tr th:only-of-type {\n",
       "        vertical-align: middle;\n",
       "    }\n",
       "\n",
       "    .dataframe tbody tr th {\n",
       "        vertical-align: top;\n",
       "    }\n",
       "\n",
       "    .dataframe thead th {\n",
       "        text-align: right;\n",
       "    }\n",
       "</style>\n",
       "<table border=\"1\" class=\"dataframe\">\n",
       "  <thead>\n",
       "    <tr style=\"text-align: right;\">\n",
       "      <th></th>\n",
       "      <th>title</th>\n",
       "      <th>description</th>\n",
       "      <th>price</th>\n",
       "      <th>category_id</th>\n",
       "      <th>price_digits</th>\n",
       "    </tr>\n",
       "    <tr>\n",
       "      <th>item_id</th>\n",
       "      <th></th>\n",
       "      <th></th>\n",
       "      <th></th>\n",
       "      <th></th>\n",
       "      <th></th>\n",
       "    </tr>\n",
       "  </thead>\n",
       "  <tbody>\n",
       "    <tr>\n",
       "      <th>0</th>\n",
       "      <td>[картина]</td>\n",
       "      <td>[гобелен, размеры]</td>\n",
       "      <td>1000.0</td>\n",
       "      <td>19</td>\n",
       "      <td>4</td>\n",
       "    </tr>\n",
       "    <tr>\n",
       "      <th>1</th>\n",
       "      <td>[стулья, из, прессованной, кожи]</td>\n",
       "      <td>[продам, недорого, стула, из, светлой, прессов...</td>\n",
       "      <td>1250.0</td>\n",
       "      <td>22</td>\n",
       "      <td>4</td>\n",
       "    </tr>\n",
       "    <tr>\n",
       "      <th>2</th>\n",
       "      <td>[домашняя, мини, баня]</td>\n",
       "      <td>[мини, баня, мини, сауна, предназначена, для, ...</td>\n",
       "      <td>13000.0</td>\n",
       "      <td>37</td>\n",
       "      <td>5</td>\n",
       "    </tr>\n",
       "    <tr>\n",
       "      <th>3</th>\n",
       "      <td>[эксклюзивная, коллекция, книг, трансаэро, под...</td>\n",
       "      <td>[продам, эксклюзивную, коллекцию, книг, выпуще...</td>\n",
       "      <td>4000.0</td>\n",
       "      <td>43</td>\n",
       "      <td>4</td>\n",
       "    </tr>\n",
       "    <tr>\n",
       "      <th>4</th>\n",
       "      <td>[ноутбук, aser]</td>\n",
       "      <td>[продаётся, ноутбук, acer, куплен, в, конце, н...</td>\n",
       "      <td>19000.0</td>\n",
       "      <td>1</td>\n",
       "      <td>5</td>\n",
       "    </tr>\n",
       "  </tbody>\n",
       "</table>\n",
       "</div>"
      ],
      "text/plain": [
       "                                                     title  \\\n",
       "item_id                                                      \n",
       "0                                                [картина]   \n",
       "1                         [стулья, из, прессованной, кожи]   \n",
       "2                                   [домашняя, мини, баня]   \n",
       "3        [эксклюзивная, коллекция, книг, трансаэро, под...   \n",
       "4                                          [ноутбук, aser]   \n",
       "\n",
       "                                               description    price  \\\n",
       "item_id                                                               \n",
       "0                                       [гобелен, размеры]   1000.0   \n",
       "1        [продам, недорого, стула, из, светлой, прессов...   1250.0   \n",
       "2        [мини, баня, мини, сауна, предназначена, для, ...  13000.0   \n",
       "3        [продам, эксклюзивную, коллекцию, книг, выпуще...   4000.0   \n",
       "4        [продаётся, ноутбук, acer, куплен, в, конце, н...  19000.0   \n",
       "\n",
       "         category_id  price_digits  \n",
       "item_id                             \n",
       "0                 19             4  \n",
       "1                 22             4  \n",
       "2                 37             5  \n",
       "3                 43             4  \n",
       "4                  1             5  "
      ]
     },
     "execution_count": 26,
     "metadata": {},
     "output_type": "execute_result"
    }
   ],
   "source": [
    "train.head()"
   ]
  },
  {
   "cell_type": "markdown",
   "metadata": {},
   "source": [
    "### 20 Самых часто встречающихся слов в Title"
   ]
  },
  {
   "cell_type": "code",
   "execution_count": 3,
   "metadata": {},
   "outputs": [],
   "source": [
    "from itertools import chain\n",
    "from collections import Counter"
   ]
  },
  {
   "cell_type": "code",
   "execution_count": 28,
   "metadata": {},
   "outputs": [
    {
     "data": {
      "text/plain": [
       "для          37976\n",
       "продам       29689\n",
       "с            18001\n",
       "на           17727\n",
       "в            16045\n",
       "и            15095\n",
       "samsung      13234\n",
       "sony         11069\n",
       "iphone       10368\n",
       "из            8948\n",
       "новый         7795\n",
       "платье        7400\n",
       "galaxy        7395\n",
       "часы          6923\n",
       "продаю        6574\n",
       "xperia        6417\n",
       "nokia         6031\n",
       "стол          5566\n",
       "монитор       5538\n",
       "телевизор     5136\n",
       "dtype: int64"
      ]
     },
     "execution_count": 28,
     "metadata": {},
     "output_type": "execute_result"
    }
   ],
   "source": [
    "words_count = pd.Series(chain.from_iterable(train['title'])).value_counts()\n",
    "top_20 = words_count[:20]\n",
    "top_20"
   ]
  },
  {
   "cell_type": "markdown",
   "metadata": {},
   "source": [
    "#### Примечательно, что большая их часть связана с различными видами электроники"
   ]
  },
  {
   "cell_type": "markdown",
   "metadata": {},
   "source": [
    "## Лемматизация и стэмминг"
   ]
  },
  {
   "cell_type": "markdown",
   "metadata": {},
   "source": [
    "#### Сначала применю стэмминг на текстовые данные, затем лемматизацию и сравню качество для обоих методов обработки текстовых данных"
   ]
  },
  {
   "cell_type": "code",
   "execution_count": 4,
   "metadata": {},
   "outputs": [],
   "source": [
    "from nltk.stem import SnowballStemmer"
   ]
  },
  {
   "cell_type": "code",
   "execution_count": 5,
   "metadata": {
    "scrolled": true
   },
   "outputs": [],
   "source": [
    "import nltk\n",
    "#nltk.download('stopwords')"
   ]
  },
  {
   "cell_type": "code",
   "execution_count": 24,
   "metadata": {},
   "outputs": [],
   "source": [
    "stemmer = SnowballStemmer('russian')"
   ]
  },
  {
   "cell_type": "code",
   "execution_count": 9,
   "metadata": {},
   "outputs": [],
   "source": [
    "def stemming(word_list):\n",
    "    stemmed = [stemmer.stem(x) for x in word_list]\n",
    "    return stemmed"
   ]
  },
  {
   "cell_type": "code",
   "execution_count": 33,
   "metadata": {},
   "outputs": [
    {
     "name": "stdout",
     "output_type": "stream",
     "text": [
      "CPU times: user 50.6 s, sys: 124 ms, total: 50.7 s\n",
      "Wall time: 50.7 s\n"
     ]
    }
   ],
   "source": [
    "%%time\n",
    "stemmed_title = train['title'].apply(lambda word_list: [stemmer.stem(x) for x in word_list])"
   ]
  },
  {
   "cell_type": "code",
   "execution_count": 34,
   "metadata": {},
   "outputs": [
    {
     "name": "stdout",
     "output_type": "stream",
     "text": [
      "CPU times: user 11min 40s, sys: 1.35 s, total: 11min 41s\n",
      "Wall time: 11min 41s\n"
     ]
    }
   ],
   "source": [
    "%%time\n",
    "stemmed_description = train['description'].apply(lambda word_list: [stemmer.stem(x) for x in word_list])"
   ]
  },
  {
   "cell_type": "markdown",
   "metadata": {},
   "source": [
    "### Стоп-слова"
   ]
  },
  {
   "cell_type": "code",
   "execution_count": 6,
   "metadata": {},
   "outputs": [],
   "source": [
    "from nltk.corpus import stopwords"
   ]
  },
  {
   "cell_type": "code",
   "execution_count": 7,
   "metadata": {},
   "outputs": [],
   "source": [
    "stop_words = set(stopwords.words('russian'))"
   ]
  },
  {
   "cell_type": "code",
   "execution_count": 37,
   "metadata": {},
   "outputs": [
    {
     "name": "stdout",
     "output_type": "stream",
     "text": [
      "CPU times: user 3 µs, sys: 0 ns, total: 3 µs\n",
      "Wall time: 5.72 µs\n"
     ]
    }
   ],
   "source": [
    "%%time\n",
    "#tokenized_title = [word_tokenize(text) for text in stemmed_title]\n",
    "#tokenized_description = [word_tokenize(text) for text in stemmed_description]"
   ]
  },
  {
   "cell_type": "code",
   "execution_count": 8,
   "metadata": {},
   "outputs": [],
   "source": [
    "def remove_stop_words(sentence):\n",
    "    clear_sentence = [word for word in sentence if word not in stop_words]\n",
    "    return ' '.join(clear_sentence)"
   ]
  },
  {
   "cell_type": "code",
   "execution_count": 39,
   "metadata": {},
   "outputs": [],
   "source": [
    "title_cleared = list(map(remove_stop_words, stemmed_title))\n",
    "description_cleared = list(map(remove_stop_words, stemmed_description))"
   ]
  },
  {
   "cell_type": "code",
   "execution_count": 40,
   "metadata": {},
   "outputs": [],
   "source": [
    "train['title'] = title_cleared\n",
    "train['description'] = description_cleared"
   ]
  },
  {
   "cell_type": "code",
   "execution_count": 41,
   "metadata": {},
   "outputs": [
    {
     "data": {
      "text/html": [
       "<div>\n",
       "<style scoped>\n",
       "    .dataframe tbody tr th:only-of-type {\n",
       "        vertical-align: middle;\n",
       "    }\n",
       "\n",
       "    .dataframe tbody tr th {\n",
       "        vertical-align: top;\n",
       "    }\n",
       "\n",
       "    .dataframe thead th {\n",
       "        text-align: right;\n",
       "    }\n",
       "</style>\n",
       "<table border=\"1\" class=\"dataframe\">\n",
       "  <thead>\n",
       "    <tr style=\"text-align: right;\">\n",
       "      <th></th>\n",
       "      <th>title</th>\n",
       "      <th>description</th>\n",
       "      <th>price</th>\n",
       "      <th>category_id</th>\n",
       "      <th>price_digits</th>\n",
       "    </tr>\n",
       "    <tr>\n",
       "      <th>item_id</th>\n",
       "      <th></th>\n",
       "      <th></th>\n",
       "      <th></th>\n",
       "      <th></th>\n",
       "      <th></th>\n",
       "    </tr>\n",
       "  </thead>\n",
       "  <tbody>\n",
       "    <tr>\n",
       "      <th>0</th>\n",
       "      <td>картин</td>\n",
       "      <td>гобел размер</td>\n",
       "      <td>1000.0</td>\n",
       "      <td>19</td>\n",
       "      <td>4</td>\n",
       "    </tr>\n",
       "    <tr>\n",
       "      <th>1</th>\n",
       "      <td>стул прессова кож</td>\n",
       "      <td>прод недор стул светл прессова кож стильн ножк...</td>\n",
       "      <td>1250.0</td>\n",
       "      <td>22</td>\n",
       "      <td>4</td>\n",
       "    </tr>\n",
       "    <tr>\n",
       "      <th>2</th>\n",
       "      <td>домашн мин бан</td>\n",
       "      <td>мин бан мин саун предназнач принят теплов проц...</td>\n",
       "      <td>13000.0</td>\n",
       "      <td>37</td>\n",
       "      <td>5</td>\n",
       "    </tr>\n",
       "    <tr>\n",
       "      <th>3</th>\n",
       "      <td>эксклюзивн коллекц книг трансаэр подарок</td>\n",
       "      <td>прод эксклюзивн коллекц книг выпущен ограничен...</td>\n",
       "      <td>4000.0</td>\n",
       "      <td>43</td>\n",
       "      <td>4</td>\n",
       "    </tr>\n",
       "    <tr>\n",
       "      <th>4</th>\n",
       "      <td>ноутбук aser</td>\n",
       "      <td>прода ноутбук acer купл конц ноябр вообщ польз...</td>\n",
       "      <td>19000.0</td>\n",
       "      <td>1</td>\n",
       "      <td>5</td>\n",
       "    </tr>\n",
       "  </tbody>\n",
       "</table>\n",
       "</div>"
      ],
      "text/plain": [
       "                                            title  \\\n",
       "item_id                                             \n",
       "0                                          картин   \n",
       "1                               стул прессова кож   \n",
       "2                                  домашн мин бан   \n",
       "3        эксклюзивн коллекц книг трансаэр подарок   \n",
       "4                                    ноутбук aser   \n",
       "\n",
       "                                               description    price  \\\n",
       "item_id                                                               \n",
       "0                                             гобел размер   1000.0   \n",
       "1        прод недор стул светл прессова кож стильн ножк...   1250.0   \n",
       "2        мин бан мин саун предназнач принят теплов проц...  13000.0   \n",
       "3        прод эксклюзивн коллекц книг выпущен ограничен...   4000.0   \n",
       "4        прода ноутбук acer купл конц ноябр вообщ польз...  19000.0   \n",
       "\n",
       "         category_id  price_digits  \n",
       "item_id                             \n",
       "0                 19             4  \n",
       "1                 22             4  \n",
       "2                 37             5  \n",
       "3                 43             4  \n",
       "4                  1             5  "
      ]
     },
     "execution_count": 41,
     "metadata": {},
     "output_type": "execute_result"
    }
   ],
   "source": [
    "train.head()"
   ]
  },
  {
   "cell_type": "markdown",
   "metadata": {},
   "source": [
    "### Построю первый классификатор: логистическую регрессию со стохастическим градиентным спуском."
   ]
  },
  {
   "cell_type": "code",
   "execution_count": 42,
   "metadata": {},
   "outputs": [],
   "source": [
    "splitted = categories['name'].apply(lambda category: category.split('|'))\n",
    "cat_1 = pd.Series([item[0] for item in splitted]).unique()"
   ]
  },
  {
   "cell_type": "code",
   "execution_count": 43,
   "metadata": {},
   "outputs": [
    {
     "data": {
      "text/plain": [
       "array(['Бытовая электроника', 'Для дома и дачи', 'Личные вещи',\n",
       "       'Хобби и отдых'], dtype=object)"
      ]
     },
     "execution_count": 43,
     "metadata": {},
     "output_type": "execute_result"
    }
   ],
   "source": [
    "cat_1"
   ]
  },
  {
   "cell_type": "code",
   "execution_count": 44,
   "metadata": {},
   "outputs": [],
   "source": [
    "def create_dict(full_category, category_in_hierarchy):\n",
    "    for i in full_category:\n",
    "        if i in category_in_hierarchy:\n",
    "            return i"
   ]
  },
  {
   "cell_type": "code",
   "execution_count": 45,
   "metadata": {
    "scrolled": true
   },
   "outputs": [
    {
     "data": {
      "text/plain": [
       "category_id\n",
       "0     Бытовая электроника\n",
       "1     Бытовая электроника\n",
       "2     Бытовая электроника\n",
       "3     Бытовая электроника\n",
       "4     Бытовая электроника\n",
       "5     Бытовая электроника\n",
       "6     Бытовая электроника\n",
       "7     Бытовая электроника\n",
       "8     Бытовая электроника\n",
       "9     Бытовая электроника\n",
       "10    Бытовая электроника\n",
       "11    Бытовая электроника\n",
       "12    Бытовая электроника\n",
       "13    Бытовая электроника\n",
       "14    Бытовая электроника\n",
       "15        Для дома и дачи\n",
       "16        Для дома и дачи\n",
       "17        Для дома и дачи\n",
       "18        Для дома и дачи\n",
       "19        Для дома и дачи\n",
       "20        Для дома и дачи\n",
       "21        Для дома и дачи\n",
       "22        Для дома и дачи\n",
       "23        Для дома и дачи\n",
       "24        Для дома и дачи\n",
       "25        Для дома и дачи\n",
       "26        Для дома и дачи\n",
       "27        Для дома и дачи\n",
       "28        Для дома и дачи\n",
       "29        Для дома и дачи\n",
       "30            Личные вещи\n",
       "31            Личные вещи\n",
       "32            Личные вещи\n",
       "33            Личные вещи\n",
       "34            Личные вещи\n",
       "35            Личные вещи\n",
       "36            Личные вещи\n",
       "37            Личные вещи\n",
       "38            Личные вещи\n",
       "39            Личные вещи\n",
       "40            Личные вещи\n",
       "41            Личные вещи\n",
       "42          Хобби и отдых\n",
       "43          Хобби и отдых\n",
       "44          Хобби и отдых\n",
       "45          Хобби и отдых\n",
       "46          Хобби и отдых\n",
       "47          Хобби и отдых\n",
       "48          Хобби и отдых\n",
       "49          Хобби и отдых\n",
       "50          Хобби и отдых\n",
       "51          Хобби и отдых\n",
       "52          Хобби и отдых\n",
       "53          Хобби и отдых\n",
       "Name: name, dtype: object"
      ]
     },
     "execution_count": 45,
     "metadata": {},
     "output_type": "execute_result"
    }
   ],
   "source": [
    "cat_1_dict = splitted.apply(create_dict, args=(cat_1,))\n",
    "cat_1_dict"
   ]
  },
  {
   "cell_type": "code",
   "execution_count": 46,
   "metadata": {},
   "outputs": [
    {
     "data": {
      "text/html": [
       "<div>\n",
       "<style scoped>\n",
       "    .dataframe tbody tr th:only-of-type {\n",
       "        vertical-align: middle;\n",
       "    }\n",
       "\n",
       "    .dataframe tbody tr th {\n",
       "        vertical-align: top;\n",
       "    }\n",
       "\n",
       "    .dataframe thead th {\n",
       "        text-align: right;\n",
       "    }\n",
       "</style>\n",
       "<table border=\"1\" class=\"dataframe\">\n",
       "  <thead>\n",
       "    <tr style=\"text-align: right;\">\n",
       "      <th></th>\n",
       "      <th>title</th>\n",
       "      <th>description</th>\n",
       "      <th>price</th>\n",
       "      <th>category_id</th>\n",
       "      <th>price_digits</th>\n",
       "    </tr>\n",
       "    <tr>\n",
       "      <th>item_id</th>\n",
       "      <th></th>\n",
       "      <th></th>\n",
       "      <th></th>\n",
       "      <th></th>\n",
       "      <th></th>\n",
       "    </tr>\n",
       "  </thead>\n",
       "  <tbody>\n",
       "    <tr>\n",
       "      <th>0</th>\n",
       "      <td>картин</td>\n",
       "      <td>гобел размер</td>\n",
       "      <td>1000.0</td>\n",
       "      <td>19</td>\n",
       "      <td>4</td>\n",
       "    </tr>\n",
       "    <tr>\n",
       "      <th>1</th>\n",
       "      <td>стул прессова кож</td>\n",
       "      <td>прод недор стул светл прессова кож стильн ножк...</td>\n",
       "      <td>1250.0</td>\n",
       "      <td>22</td>\n",
       "      <td>4</td>\n",
       "    </tr>\n",
       "    <tr>\n",
       "      <th>2</th>\n",
       "      <td>домашн мин бан</td>\n",
       "      <td>мин бан мин саун предназнач принят теплов проц...</td>\n",
       "      <td>13000.0</td>\n",
       "      <td>37</td>\n",
       "      <td>5</td>\n",
       "    </tr>\n",
       "    <tr>\n",
       "      <th>3</th>\n",
       "      <td>эксклюзивн коллекц книг трансаэр подарок</td>\n",
       "      <td>прод эксклюзивн коллекц книг выпущен ограничен...</td>\n",
       "      <td>4000.0</td>\n",
       "      <td>43</td>\n",
       "      <td>4</td>\n",
       "    </tr>\n",
       "    <tr>\n",
       "      <th>4</th>\n",
       "      <td>ноутбук aser</td>\n",
       "      <td>прода ноутбук acer купл конц ноябр вообщ польз...</td>\n",
       "      <td>19000.0</td>\n",
       "      <td>1</td>\n",
       "      <td>5</td>\n",
       "    </tr>\n",
       "    <tr>\n",
       "      <th>5</th>\n",
       "      <td>бас гитар invasion</td>\n",
       "      <td>состоян хорош имеет тепл чехол</td>\n",
       "      <td>3999.0</td>\n",
       "      <td>50</td>\n",
       "      <td>4</td>\n",
       "    </tr>\n",
       "    <tr>\n",
       "      <th>6</th>\n",
       "      <td>сме грудничок зеленодольск</td>\n",
       "      <td>сме молочн адаптирова ультрапастеризова грудни...</td>\n",
       "      <td>15.0</td>\n",
       "      <td>41</td>\n",
       "      <td>2</td>\n",
       "    </tr>\n",
       "    <tr>\n",
       "      <th>7</th>\n",
       "      <td>gshock</td>\n",
       "      <td>час абсолютн нов коробк час кита подар нов год...</td>\n",
       "      <td>2500.0</td>\n",
       "      <td>36</td>\n",
       "      <td>4</td>\n",
       "    </tr>\n",
       "    <tr>\n",
       "      <th>8</th>\n",
       "      <td>санатор белорусс лепельск воен</td>\n",
       "      <td>санатор белорусс лепельск воен цен человек пак...</td>\n",
       "      <td>1090.0</td>\n",
       "      <td>48</td>\n",
       "      <td>4</td>\n",
       "    </tr>\n",
       "    <tr>\n",
       "      <th>9</th>\n",
       "      <td>фотохолст</td>\n",
       "      <td>фотохолст подрамник галерейн натяжк ширин торц...</td>\n",
       "      <td>1250.0</td>\n",
       "      <td>19</td>\n",
       "      <td>4</td>\n",
       "    </tr>\n",
       "    <tr>\n",
       "      <th>10</th>\n",
       "      <td>ботильон nando muzi</td>\n",
       "      <td>хорош состоян</td>\n",
       "      <td>5000.0</td>\n",
       "      <td>39</td>\n",
       "      <td>4</td>\n",
       "    </tr>\n",
       "    <tr>\n",
       "      <th>11</th>\n",
       "      <td>игрушк playgro лев</td>\n",
       "      <td>игрушк playgro состоян отличн видел детск мир ...</td>\n",
       "      <td>400.0</td>\n",
       "      <td>30</td>\n",
       "      <td>3</td>\n",
       "    </tr>\n",
       "    <tr>\n",
       "      <th>12</th>\n",
       "      <td>кроватк младенц</td>\n",
       "      <td>кроватк новорожден регулир положен матрац бел ...</td>\n",
       "      <td>2999.0</td>\n",
       "      <td>34</td>\n",
       "      <td>4</td>\n",
       "    </tr>\n",
       "    <tr>\n",
       "      <th>13</th>\n",
       "      <td>прод утяжелител поясн нов</td>\n",
       "      <td>прод утяжелител поясн нов кг кг</td>\n",
       "      <td>500.0</td>\n",
       "      <td>46</td>\n",
       "      <td>3</td>\n",
       "    </tr>\n",
       "    <tr>\n",
       "      <th>14</th>\n",
       "      <td>цилиндрическ люстр</td>\n",
       "      <td>прод люстр отличн состоян</td>\n",
       "      <td>2000.0</td>\n",
       "      <td>28</td>\n",
       "      <td>4</td>\n",
       "    </tr>\n",
       "    <tr>\n",
       "      <th>15</th>\n",
       "      <td>фацел пижмолистн</td>\n",
       "      <td>сем медонос нетребовательн почв холодостойк за...</td>\n",
       "      <td>275.0</td>\n",
       "      <td>24</td>\n",
       "      <td>3</td>\n",
       "    </tr>\n",
       "    <tr>\n",
       "      <th>16</th>\n",
       "      <td>стол письмен ике</td>\n",
       "      <td>хорош состоян полочк самовывоз</td>\n",
       "      <td>2300.0</td>\n",
       "      <td>22</td>\n",
       "      <td>4</td>\n",
       "    </tr>\n",
       "    <tr>\n",
       "      <th>17</th>\n",
       "      <td>станок</td>\n",
       "      <td>прод деревообрабатыва станок интерес вопрос от...</td>\n",
       "      <td>6000.0</td>\n",
       "      <td>17</td>\n",
       "      <td>4</td>\n",
       "    </tr>\n",
       "    <tr>\n",
       "      <th>18</th>\n",
       "      <td>прод коляск bebecar португал</td>\n",
       "      <td>прод наш любим колясочк bebecar коляск чудесн ...</td>\n",
       "      <td>21500.0</td>\n",
       "      <td>32</td>\n",
       "      <td>5</td>\n",
       "    </tr>\n",
       "    <tr>\n",
       "      <th>19</th>\n",
       "      <td>пальт</td>\n",
       "      <td>прода пальт надея нескольк</td>\n",
       "      <td>3500.0</td>\n",
       "      <td>38</td>\n",
       "      <td>4</td>\n",
       "    </tr>\n",
       "    <tr>\n",
       "      <th>20</th>\n",
       "      <td>алмазн вышивк</td>\n",
       "      <td>продаж творческ набор алмазн вышивк фот букет ...</td>\n",
       "      <td>2050.0</td>\n",
       "      <td>19</td>\n",
       "      <td>4</td>\n",
       "    </tr>\n",
       "    <tr>\n",
       "      <th>21</th>\n",
       "      <td>spotlight</td>\n",
       "      <td>абсолютн нов никт уч открыва год</td>\n",
       "      <td>400.0</td>\n",
       "      <td>51</td>\n",
       "      <td>3</td>\n",
       "    </tr>\n",
       "    <tr>\n",
       "      <th>22</th>\n",
       "      <td>прибор гидромассаж sanitos</td>\n",
       "      <td>прода прибор гидромассаж очен мал</td>\n",
       "      <td>2500.0</td>\n",
       "      <td>37</td>\n",
       "      <td>4</td>\n",
       "    </tr>\n",
       "    <tr>\n",
       "      <th>23</th>\n",
       "      <td>стенк подростк</td>\n",
       "      <td>прод стенк шкаф комод стенк отличн состоян оче...</td>\n",
       "      <td>20000.0</td>\n",
       "      <td>18</td>\n",
       "      <td>5</td>\n",
       "    </tr>\n",
       "    <tr>\n",
       "      <th>24</th>\n",
       "      <td>роутер</td>\n",
       "      <td>прод нов роутер</td>\n",
       "      <td>500.0</td>\n",
       "      <td>14</td>\n",
       "      <td>3</td>\n",
       "    </tr>\n",
       "    <tr>\n",
       "      <th>25</th>\n",
       "      <td>жк телевизор philips</td>\n",
       "      <td>телевизор хорош состоян диагонал см пульт упра...</td>\n",
       "      <td>4000.0</td>\n",
       "      <td>5</td>\n",
       "      <td>4</td>\n",
       "    </tr>\n",
       "    <tr>\n",
       "      <th>26</th>\n",
       "      <td>xbox e</td>\n",
       "      <td>прод xbox e gb джойстик hdmi кабел gold статус...</td>\n",
       "      <td>11000.0</td>\n",
       "      <td>4</td>\n",
       "      <td>5</td>\n",
       "    </tr>\n",
       "    <tr>\n",
       "      <th>27</th>\n",
       "      <td>samsung galaxy</td>\n",
       "      <td>galaxy plus нов корпус трещин ест стекл заметн...</td>\n",
       "      <td>3500.0</td>\n",
       "      <td>2</td>\n",
       "      <td>4</td>\n",
       "    </tr>\n",
       "    <tr>\n",
       "      <th>28</th>\n",
       "      <td>пуховик</td>\n",
       "      <td>пуховик тепл вполн комфортн рост чут выш кол в...</td>\n",
       "      <td>7500.0</td>\n",
       "      <td>33</td>\n",
       "      <td>4</td>\n",
       "    </tr>\n",
       "    <tr>\n",
       "      <th>29</th>\n",
       "      <td>столов пренадлежн</td>\n",
       "      <td>использова набор кажд прибор упакова налич наб...</td>\n",
       "      <td>600.0</td>\n",
       "      <td>20</td>\n",
       "      <td>3</td>\n",
       "    </tr>\n",
       "    <tr>\n",
       "      <th>...</th>\n",
       "      <td>...</td>\n",
       "      <td>...</td>\n",
       "      <td>...</td>\n",
       "      <td>...</td>\n",
       "      <td>...</td>\n",
       "    </tr>\n",
       "    <tr>\n",
       "      <th>489487</th>\n",
       "      <td>романтическ тур ден свят валентин фев</td>\n",
       "      <td>тур ден свят феврал наш суетн жизн обязательн ...</td>\n",
       "      <td>2500.0</td>\n",
       "      <td>48</td>\n",
       "      <td>4</td>\n",
       "    </tr>\n",
       "    <tr>\n",
       "      <th>489488</th>\n",
       "      <td>учебник английск</td>\n",
       "      <td>учебник учител страниц цветн учебник полност а...</td>\n",
       "      <td>500.0</td>\n",
       "      <td>51</td>\n",
       "      <td>3</td>\n",
       "    </tr>\n",
       "    <tr>\n",
       "      <th>489489</th>\n",
       "      <td>dexp ixion storm</td>\n",
       "      <td>смартфон отличн состоян полн комплект пленк эк...</td>\n",
       "      <td>5000.0</td>\n",
       "      <td>6</td>\n",
       "      <td>4</td>\n",
       "    </tr>\n",
       "    <tr>\n",
       "      <th>489490</th>\n",
       "      <td>чехол айфон iphone</td>\n",
       "      <td>высот см ширин см толщин стенк мм болта связа ...</td>\n",
       "      <td>300.0</td>\n",
       "      <td>9</td>\n",
       "      <td>3</td>\n",
       "    </tr>\n",
       "    <tr>\n",
       "      <th>489491</th>\n",
       "      <td>доск сух бу</td>\n",
       "      <td>куб шт длин шт длин шт длин</td>\n",
       "      <td>4000.0</td>\n",
       "      <td>15</td>\n",
       "      <td>4</td>\n",
       "    </tr>\n",
       "    <tr>\n",
       "      <th>489492</th>\n",
       "      <td>ручк iveco</td>\n",
       "      <td>фирмен подарочн шариков ручк iveco stralis цве...</td>\n",
       "      <td>600.0</td>\n",
       "      <td>31</td>\n",
       "      <td>3</td>\n",
       "    </tr>\n",
       "    <tr>\n",
       "      <th>489493</th>\n",
       "      <td>звуков карт yamaha audiogram</td>\n",
       "      <td>прода прост удобн аудиокарт usb ест фант питан...</td>\n",
       "      <td>3500.0</td>\n",
       "      <td>52</td>\n",
       "      <td>4</td>\n",
       "    </tr>\n",
       "    <tr>\n",
       "      <th>489494</th>\n",
       "      <td>крова двуспальн</td>\n",
       "      <td>крова размер деревя каркас прода пружин двусто...</td>\n",
       "      <td>10000.0</td>\n",
       "      <td>16</td>\n",
       "      <td>5</td>\n",
       "    </tr>\n",
       "    <tr>\n",
       "      <th>489495</th>\n",
       "      <td>нов нерж кастрюл крыш л</td>\n",
       "      <td>нов нерж кастрюл крыш л коробк турц размер ста...</td>\n",
       "      <td>1000.0</td>\n",
       "      <td>20</td>\n",
       "      <td>4</td>\n",
       "    </tr>\n",
       "    <tr>\n",
       "      <th>489496</th>\n",
       "      <td>металлоискател garrett</td>\n",
       "      <td>отличн поисков прибор небольш деньг комплект и...</td>\n",
       "      <td>15000.0</td>\n",
       "      <td>47</td>\n",
       "      <td>5</td>\n",
       "    </tr>\n",
       "    <tr>\n",
       "      <th>489497</th>\n",
       "      <td>samsung duos lte отличн состоян</td>\n",
       "      <td>телефон отличн состоян купл октябр комплект ко...</td>\n",
       "      <td>9000.0</td>\n",
       "      <td>2</td>\n",
       "      <td>4</td>\n",
       "    </tr>\n",
       "    <tr>\n",
       "      <th>489498</th>\n",
       "      <td>монитор lg flatron</td>\n",
       "      <td>прод монитор lg диагонал комплект кабел питан ...</td>\n",
       "      <td>500.0</td>\n",
       "      <td>13</td>\n",
       "      <td>3</td>\n",
       "    </tr>\n",
       "    <tr>\n",
       "      <th>489499</th>\n",
       "      <td>нов настольн ламп сер палерм</td>\n",
       "      <td>цен уточня артикул явля поставщик отправк росс...</td>\n",
       "      <td>4100.0</td>\n",
       "      <td>28</td>\n",
       "      <td>4</td>\n",
       "    </tr>\n",
       "    <tr>\n",
       "      <th>489500</th>\n",
       "      <td>коляск jetem prizm</td>\n",
       "      <td>коляск прогулочн вездеход jetem prism цвет хак...</td>\n",
       "      <td>6000.0</td>\n",
       "      <td>32</td>\n",
       "      <td>4</td>\n",
       "    </tr>\n",
       "    <tr>\n",
       "      <th>489501</th>\n",
       "      <td>samsung</td>\n",
       "      <td>прод монитор разрешен диагонал тип матриц экра...</td>\n",
       "      <td>20000.0</td>\n",
       "      <td>13</td>\n",
       "      <td>5</td>\n",
       "    </tr>\n",
       "    <tr>\n",
       "      <th>489502</th>\n",
       "      <td>lg samsung galaxy star</td>\n",
       "      <td>lg разбит стекл зад крышк galaxy star разб зап...</td>\n",
       "      <td>400.0</td>\n",
       "      <td>2</td>\n",
       "      <td>3</td>\n",
       "    </tr>\n",
       "    <tr>\n",
       "      <th>489503</th>\n",
       "      <td>монет сер красн книг</td>\n",
       "      <td>прод сер монет красн книг год сер обращен</td>\n",
       "      <td>4500.0</td>\n",
       "      <td>45</td>\n",
       "      <td>4</td>\n",
       "    </tr>\n",
       "    <tr>\n",
       "      <th>489504</th>\n",
       "      <td>электрон качел graco</td>\n",
       "      <td>отличн состоян покупа мелод скорост положен сп...</td>\n",
       "      <td>4500.0</td>\n",
       "      <td>32</td>\n",
       "      <td>4</td>\n",
       "    </tr>\n",
       "    <tr>\n",
       "      <th>489505</th>\n",
       "      <td>дива черн кожан офисн</td>\n",
       "      <td>кожан дива цвет черн состоян см фот</td>\n",
       "      <td>3000.0</td>\n",
       "      <td>16</td>\n",
       "      <td>4</td>\n",
       "    </tr>\n",
       "    <tr>\n",
       "      <th>489506</th>\n",
       "      <td>цифров дил mooer repeater</td>\n",
       "      <td>эффект задержк состоян отличн педа липучк ворс...</td>\n",
       "      <td>3400.0</td>\n",
       "      <td>52</td>\n",
       "      <td>4</td>\n",
       "    </tr>\n",
       "    <tr>\n",
       "      <th>489507</th>\n",
       "      <td>женск кошелек guess</td>\n",
       "      <td>нов женск кошелек фирм guess ярк вместительн</td>\n",
       "      <td>500.0</td>\n",
       "      <td>31</td>\n",
       "      <td>3</td>\n",
       "    </tr>\n",
       "    <tr>\n",
       "      <th>489508</th>\n",
       "      <td>бамбуков полотн ламел лак натур</td>\n",
       "      <td>цен указа метр погон размер рулон ширин соста ...</td>\n",
       "      <td>506.0</td>\n",
       "      <td>15</td>\n",
       "      <td>3</td>\n",
       "    </tr>\n",
       "    <tr>\n",
       "      <th>489509</th>\n",
       "      <td>прожектор led moon</td>\n",
       "      <td>очен маленьк эффект враща лун цветк режим рабо...</td>\n",
       "      <td>8999.0</td>\n",
       "      <td>52</td>\n",
       "      <td>4</td>\n",
       "    </tr>\n",
       "    <tr>\n",
       "      <th>489510</th>\n",
       "      <td>кухонн стол</td>\n",
       "      <td>срочн прода кухон стол отличн состоян стол раз...</td>\n",
       "      <td>3000.0</td>\n",
       "      <td>22</td>\n",
       "      <td>4</td>\n",
       "    </tr>\n",
       "    <tr>\n",
       "      <th>489511</th>\n",
       "      <td>прод лыж сноуборд</td>\n",
       "      <td>прод лыж размер сноуборд</td>\n",
       "      <td>7000.0</td>\n",
       "      <td>42</td>\n",
       "      <td>4</td>\n",
       "    </tr>\n",
       "    <tr>\n",
       "      <th>489512</th>\n",
       "      <td>music man piezo</td>\n",
       "      <td>гитар нов жестк кейс цвет черн</td>\n",
       "      <td>115000.0</td>\n",
       "      <td>50</td>\n",
       "      <td>6</td>\n",
       "    </tr>\n",
       "    <tr>\n",
       "      <th>489513</th>\n",
       "      <td>резолюц постановлен пленум цк вкпб</td>\n",
       "      <td>резолюц постановлен пленум цк вкпб гг сборник ...</td>\n",
       "      <td>4500.0</td>\n",
       "      <td>43</td>\n",
       "      <td>4</td>\n",
       "    </tr>\n",
       "    <tr>\n",
       "      <th>489514</th>\n",
       "      <td>двер входн металлическ китайск</td>\n",
       "      <td>входн металлическ двер кайзер двер подход уста...</td>\n",
       "      <td>2900.0</td>\n",
       "      <td>25</td>\n",
       "      <td>4</td>\n",
       "    </tr>\n",
       "    <tr>\n",
       "      <th>489515</th>\n",
       "      <td>чехол samsung duos</td>\n",
       "      <td>прод рубл</td>\n",
       "      <td>300.0</td>\n",
       "      <td>9</td>\n",
       "      <td>3</td>\n",
       "    </tr>\n",
       "    <tr>\n",
       "      <th>489516</th>\n",
       "      <td>прода басов усилител</td>\n",
       "      <td>фирм cort модел основн параметр количеств стру...</td>\n",
       "      <td>19000.0</td>\n",
       "      <td>50</td>\n",
       "      <td>5</td>\n",
       "    </tr>\n",
       "  </tbody>\n",
       "</table>\n",
       "<p>489517 rows × 5 columns</p>\n",
       "</div>"
      ],
      "text/plain": [
       "                                            title  \\\n",
       "item_id                                             \n",
       "0                                          картин   \n",
       "1                               стул прессова кож   \n",
       "2                                  домашн мин бан   \n",
       "3        эксклюзивн коллекц книг трансаэр подарок   \n",
       "4                                    ноутбук aser   \n",
       "5                              бас гитар invasion   \n",
       "6                      сме грудничок зеленодольск   \n",
       "7                                          gshock   \n",
       "8                  санатор белорусс лепельск воен   \n",
       "9                                       фотохолст   \n",
       "10                            ботильон nando muzi   \n",
       "11                             игрушк playgro лев   \n",
       "12                                кроватк младенц   \n",
       "13                      прод утяжелител поясн нов   \n",
       "14                             цилиндрическ люстр   \n",
       "15                               фацел пижмолистн   \n",
       "16                               стол письмен ике   \n",
       "17                                         станок   \n",
       "18                   прод коляск bebecar португал   \n",
       "19                                          пальт   \n",
       "20                                  алмазн вышивк   \n",
       "21                                      spotlight   \n",
       "22                     прибор гидромассаж sanitos   \n",
       "23                                 стенк подростк   \n",
       "24                                         роутер   \n",
       "25                           жк телевизор philips   \n",
       "26                                         xbox e   \n",
       "27                                 samsung galaxy   \n",
       "28                                        пуховик   \n",
       "29                              столов пренадлежн   \n",
       "...                                           ...   \n",
       "489487      романтическ тур ден свят валентин фев   \n",
       "489488                           учебник английск   \n",
       "489489                           dexp ixion storm   \n",
       "489490                         чехол айфон iphone   \n",
       "489491                                доск сух бу   \n",
       "489492                                 ручк iveco   \n",
       "489493               звуков карт yamaha audiogram   \n",
       "489494                            крова двуспальн   \n",
       "489495                    нов нерж кастрюл крыш л   \n",
       "489496                     металлоискател garrett   \n",
       "489497            samsung duos lte отличн состоян   \n",
       "489498                         монитор lg flatron   \n",
       "489499               нов настольн ламп сер палерм   \n",
       "489500                         коляск jetem prizm   \n",
       "489501                                    samsung   \n",
       "489502                     lg samsung galaxy star   \n",
       "489503                       монет сер красн книг   \n",
       "489504                       электрон качел graco   \n",
       "489505                      дива черн кожан офисн   \n",
       "489506                  цифров дил mooer repeater   \n",
       "489507                        женск кошелек guess   \n",
       "489508            бамбуков полотн ламел лак натур   \n",
       "489509                         прожектор led moon   \n",
       "489510                                кухонн стол   \n",
       "489511                          прод лыж сноуборд   \n",
       "489512                            music man piezo   \n",
       "489513         резолюц постановлен пленум цк вкпб   \n",
       "489514             двер входн металлическ китайск   \n",
       "489515                         чехол samsung duos   \n",
       "489516                       прода басов усилител   \n",
       "\n",
       "                                               description     price  \\\n",
       "item_id                                                                \n",
       "0                                             гобел размер    1000.0   \n",
       "1        прод недор стул светл прессова кож стильн ножк...    1250.0   \n",
       "2        мин бан мин саун предназнач принят теплов проц...   13000.0   \n",
       "3        прод эксклюзивн коллекц книг выпущен ограничен...    4000.0   \n",
       "4        прода ноутбук acer купл конц ноябр вообщ польз...   19000.0   \n",
       "5                           состоян хорош имеет тепл чехол    3999.0   \n",
       "6        сме молочн адаптирова ультрапастеризова грудни...      15.0   \n",
       "7        час абсолютн нов коробк час кита подар нов год...    2500.0   \n",
       "8        санатор белорусс лепельск воен цен человек пак...    1090.0   \n",
       "9        фотохолст подрамник галерейн натяжк ширин торц...    1250.0   \n",
       "10                                           хорош состоян    5000.0   \n",
       "11       игрушк playgro состоян отличн видел детск мир ...     400.0   \n",
       "12       кроватк новорожден регулир положен матрац бел ...    2999.0   \n",
       "13                         прод утяжелител поясн нов кг кг     500.0   \n",
       "14                               прод люстр отличн состоян    2000.0   \n",
       "15       сем медонос нетребовательн почв холодостойк за...     275.0   \n",
       "16                          хорош состоян полочк самовывоз    2300.0   \n",
       "17       прод деревообрабатыва станок интерес вопрос от...    6000.0   \n",
       "18       прод наш любим колясочк bebecar коляск чудесн ...   21500.0   \n",
       "19                              прода пальт надея нескольк    3500.0   \n",
       "20       продаж творческ набор алмазн вышивк фот букет ...    2050.0   \n",
       "21                        абсолютн нов никт уч открыва год     400.0   \n",
       "22                       прода прибор гидромассаж очен мал    2500.0   \n",
       "23       прод стенк шкаф комод стенк отличн состоян оче...   20000.0   \n",
       "24                                         прод нов роутер     500.0   \n",
       "25       телевизор хорош состоян диагонал см пульт упра...    4000.0   \n",
       "26       прод xbox e gb джойстик hdmi кабел gold статус...   11000.0   \n",
       "27       galaxy plus нов корпус трещин ест стекл заметн...    3500.0   \n",
       "28       пуховик тепл вполн комфортн рост чут выш кол в...    7500.0   \n",
       "29       использова набор кажд прибор упакова налич наб...     600.0   \n",
       "...                                                    ...       ...   \n",
       "489487   тур ден свят феврал наш суетн жизн обязательн ...    2500.0   \n",
       "489488   учебник учител страниц цветн учебник полност а...     500.0   \n",
       "489489   смартфон отличн состоян полн комплект пленк эк...    5000.0   \n",
       "489490   высот см ширин см толщин стенк мм болта связа ...     300.0   \n",
       "489491                         куб шт длин шт длин шт длин    4000.0   \n",
       "489492   фирмен подарочн шариков ручк iveco stralis цве...     600.0   \n",
       "489493   прода прост удобн аудиокарт usb ест фант питан...    3500.0   \n",
       "489494   крова размер деревя каркас прода пружин двусто...   10000.0   \n",
       "489495   нов нерж кастрюл крыш л коробк турц размер ста...    1000.0   \n",
       "489496   отличн поисков прибор небольш деньг комплект и...   15000.0   \n",
       "489497   телефон отличн состоян купл октябр комплект ко...    9000.0   \n",
       "489498   прод монитор lg диагонал комплект кабел питан ...     500.0   \n",
       "489499   цен уточня артикул явля поставщик отправк росс...    4100.0   \n",
       "489500   коляск прогулочн вездеход jetem prism цвет хак...    6000.0   \n",
       "489501   прод монитор разрешен диагонал тип матриц экра...   20000.0   \n",
       "489502   lg разбит стекл зад крышк galaxy star разб зап...     400.0   \n",
       "489503           прод сер монет красн книг год сер обращен    4500.0   \n",
       "489504   отличн состоян покупа мелод скорост положен сп...    4500.0   \n",
       "489505                 кожан дива цвет черн состоян см фот    3000.0   \n",
       "489506   эффект задержк состоян отличн педа липучк ворс...    3400.0   \n",
       "489507        нов женск кошелек фирм guess ярк вместительн     500.0   \n",
       "489508   цен указа метр погон размер рулон ширин соста ...     506.0   \n",
       "489509   очен маленьк эффект враща лун цветк режим рабо...    8999.0   \n",
       "489510   срочн прода кухон стол отличн состоян стол раз...    3000.0   \n",
       "489511                            прод лыж размер сноуборд    7000.0   \n",
       "489512                      гитар нов жестк кейс цвет черн  115000.0   \n",
       "489513   резолюц постановлен пленум цк вкпб гг сборник ...    4500.0   \n",
       "489514   входн металлическ двер кайзер двер подход уста...    2900.0   \n",
       "489515                                           прод рубл     300.0   \n",
       "489516   фирм cort модел основн параметр количеств стру...   19000.0   \n",
       "\n",
       "         category_id  price_digits  \n",
       "item_id                             \n",
       "0                 19             4  \n",
       "1                 22             4  \n",
       "2                 37             5  \n",
       "3                 43             4  \n",
       "4                  1             5  \n",
       "5                 50             4  \n",
       "6                 41             2  \n",
       "7                 36             4  \n",
       "8                 48             4  \n",
       "9                 19             4  \n",
       "10                39             4  \n",
       "11                30             3  \n",
       "12                34             4  \n",
       "13                46             3  \n",
       "14                28             4  \n",
       "15                24             3  \n",
       "16                22             4  \n",
       "17                17             4  \n",
       "18                32             5  \n",
       "19                38             4  \n",
       "20                19             4  \n",
       "21                51             3  \n",
       "22                37             4  \n",
       "23                18             5  \n",
       "24                14             3  \n",
       "25                 5             4  \n",
       "26                 4             5  \n",
       "27                 2             4  \n",
       "28                33             4  \n",
       "29                20             3  \n",
       "...              ...           ...  \n",
       "489487            48             4  \n",
       "489488            51             3  \n",
       "489489             6             4  \n",
       "489490             9             3  \n",
       "489491            15             4  \n",
       "489492            31             3  \n",
       "489493            52             4  \n",
       "489494            16             5  \n",
       "489495            20             4  \n",
       "489496            47             5  \n",
       "489497             2             4  \n",
       "489498            13             3  \n",
       "489499            28             4  \n",
       "489500            32             4  \n",
       "489501            13             5  \n",
       "489502             2             3  \n",
       "489503            45             4  \n",
       "489504            32             4  \n",
       "489505            16             4  \n",
       "489506            52             4  \n",
       "489507            31             3  \n",
       "489508            15             3  \n",
       "489509            52             4  \n",
       "489510            22             4  \n",
       "489511            42             4  \n",
       "489512            50             6  \n",
       "489513            43             4  \n",
       "489514            25             4  \n",
       "489515             9             3  \n",
       "489516            50             5  \n",
       "\n",
       "[489517 rows x 5 columns]"
      ]
     },
     "execution_count": 46,
     "metadata": {},
     "output_type": "execute_result"
    }
   ],
   "source": [
    "train"
   ]
  },
  {
   "cell_type": "code",
   "execution_count": 47,
   "metadata": {
    "scrolled": true
   },
   "outputs": [
    {
     "data": {
      "text/plain": [
       "item_id\n",
       "0        Для дома и дачи\n",
       "1        Для дома и дачи\n",
       "2            Личные вещи\n",
       "3          Хобби и отдых\n",
       "4    Бытовая электроника\n",
       "5          Хобби и отдых\n",
       "6            Личные вещи\n",
       "7            Личные вещи\n",
       "8          Хобби и отдых\n",
       "9        Для дома и дачи\n",
       "Name: category_id, dtype: object"
      ]
     },
     "execution_count": 47,
     "metadata": {},
     "output_type": "execute_result"
    }
   ],
   "source": [
    "#train['category_id'] = target\n",
    "target = train['category_id']\n",
    "target_1 = train['category_id'].replace(cat_1_dict)\n",
    "target_1[:10]"
   ]
  },
  {
   "cell_type": "code",
   "execution_count": 48,
   "metadata": {},
   "outputs": [],
   "source": [
    "train.drop('category_id', axis=1, inplace=True)"
   ]
  },
  {
   "cell_type": "markdown",
   "metadata": {},
   "source": [
    "### Bag-of-words векторы для Title и Tf-Idf векторы для Description"
   ]
  },
  {
   "cell_type": "code",
   "execution_count": 49,
   "metadata": {},
   "outputs": [
    {
     "data": {
      "text/html": [
       "<div>\n",
       "<style scoped>\n",
       "    .dataframe tbody tr th:only-of-type {\n",
       "        vertical-align: middle;\n",
       "    }\n",
       "\n",
       "    .dataframe tbody tr th {\n",
       "        vertical-align: top;\n",
       "    }\n",
       "\n",
       "    .dataframe thead th {\n",
       "        text-align: right;\n",
       "    }\n",
       "</style>\n",
       "<table border=\"1\" class=\"dataframe\">\n",
       "  <thead>\n",
       "    <tr style=\"text-align: right;\">\n",
       "      <th></th>\n",
       "      <th>title</th>\n",
       "      <th>description</th>\n",
       "      <th>price</th>\n",
       "      <th>price_digits</th>\n",
       "    </tr>\n",
       "    <tr>\n",
       "      <th>item_id</th>\n",
       "      <th></th>\n",
       "      <th></th>\n",
       "      <th></th>\n",
       "      <th></th>\n",
       "    </tr>\n",
       "  </thead>\n",
       "  <tbody>\n",
       "    <tr>\n",
       "      <th>0</th>\n",
       "      <td>картин</td>\n",
       "      <td>гобел размер</td>\n",
       "      <td>1000.0</td>\n",
       "      <td>4</td>\n",
       "    </tr>\n",
       "    <tr>\n",
       "      <th>1</th>\n",
       "      <td>стул прессова кож</td>\n",
       "      <td>прод недор стул светл прессова кож стильн ножк...</td>\n",
       "      <td>1250.0</td>\n",
       "      <td>4</td>\n",
       "    </tr>\n",
       "  </tbody>\n",
       "</table>\n",
       "</div>"
      ],
      "text/plain": [
       "                     title                                        description  \\\n",
       "item_id                                                                         \n",
       "0                   картин                                       гобел размер   \n",
       "1        стул прессова кож  прод недор стул светл прессова кож стильн ножк...   \n",
       "\n",
       "          price  price_digits  \n",
       "item_id                        \n",
       "0        1000.0             4  \n",
       "1        1250.0             4  "
      ]
     },
     "execution_count": 49,
     "metadata": {},
     "output_type": "execute_result"
    }
   ],
   "source": [
    "train.head(2)"
   ]
  },
  {
   "cell_type": "code",
   "execution_count": 10,
   "metadata": {},
   "outputs": [],
   "source": [
    "from sklearn.compose import ColumnTransformer\n",
    "from sklearn.feature_extraction.text import CountVectorizer\n",
    "from sklearn.feature_extraction.text import TfidfVectorizer\n",
    "from sklearn.model_selection import KFold\n",
    "from sklearn.preprocessing import LabelBinarizer\n",
    "from sklearn.preprocessing import StandardScaler\n",
    "from sklearn.linear_model import LogisticRegression\n",
    "from sklearn.metrics import accuracy_score\n",
    "from sklearn.metrics import roc_auc_score\n",
    "from scipy.sparse import hstack"
   ]
  },
  {
   "cell_type": "code",
   "execution_count": 51,
   "metadata": {},
   "outputs": [
    {
     "name": "stderr",
     "output_type": "stream",
     "text": [
      "/home/neeveermoree/anaconda3/envs/myenv/lib/python3.7/site-packages/sklearn/linear_model/logistic.py:433: FutureWarning: Default solver will be changed to 'lbfgs' in 0.22. Specify a solver to silence this warning.\n",
      "  FutureWarning)\n",
      "/home/neeveermoree/anaconda3/envs/myenv/lib/python3.7/site-packages/sklearn/linear_model/logistic.py:460: FutureWarning: Default multi_class will be changed to 'auto' in 0.22. Specify the multi_class option to silence this warning.\n",
      "  \"this warning.\", FutureWarning)\n",
      "/home/neeveermoree/anaconda3/envs/myenv/lib/python3.7/site-packages/sklearn/svm/base.py:922: ConvergenceWarning: Liblinear failed to converge, increase the number of iterations.\n",
      "  \"the number of iterations.\", ConvergenceWarning)\n"
     ]
    },
    {
     "name": "stdout",
     "output_type": "stream",
     "text": [
      "Accuracy: 0.8786566432423598\n"
     ]
    },
    {
     "name": "stderr",
     "output_type": "stream",
     "text": [
      "/home/neeveermoree/anaconda3/envs/myenv/lib/python3.7/site-packages/sklearn/linear_model/logistic.py:433: FutureWarning: Default solver will be changed to 'lbfgs' in 0.22. Specify a solver to silence this warning.\n",
      "  FutureWarning)\n",
      "/home/neeveermoree/anaconda3/envs/myenv/lib/python3.7/site-packages/sklearn/linear_model/logistic.py:460: FutureWarning: Default multi_class will be changed to 'auto' in 0.22. Specify the multi_class option to silence this warning.\n",
      "  \"this warning.\", FutureWarning)\n"
     ]
    },
    {
     "name": "stdout",
     "output_type": "stream",
     "text": [
      "Accuracy: 0.8781867952279784\n"
     ]
    },
    {
     "name": "stderr",
     "output_type": "stream",
     "text": [
      "/home/neeveermoree/anaconda3/envs/myenv/lib/python3.7/site-packages/sklearn/linear_model/logistic.py:433: FutureWarning: Default solver will be changed to 'lbfgs' in 0.22. Specify a solver to silence this warning.\n",
      "  FutureWarning)\n",
      "/home/neeveermoree/anaconda3/envs/myenv/lib/python3.7/site-packages/sklearn/linear_model/logistic.py:460: FutureWarning: Default multi_class will be changed to 'auto' in 0.22. Specify the multi_class option to silence this warning.\n",
      "  \"this warning.\", FutureWarning)\n"
     ]
    },
    {
     "name": "stdout",
     "output_type": "stream",
     "text": [
      "Accuracy: 0.8788699018416187\n"
     ]
    },
    {
     "name": "stderr",
     "output_type": "stream",
     "text": [
      "/home/neeveermoree/anaconda3/envs/myenv/lib/python3.7/site-packages/sklearn/linear_model/logistic.py:433: FutureWarning: Default solver will be changed to 'lbfgs' in 0.22. Specify a solver to silence this warning.\n",
      "  FutureWarning)\n",
      "/home/neeveermoree/anaconda3/envs/myenv/lib/python3.7/site-packages/sklearn/linear_model/logistic.py:460: FutureWarning: Default multi_class will be changed to 'auto' in 0.22. Specify the multi_class option to silence this warning.\n",
      "  \"this warning.\", FutureWarning)\n"
     ]
    },
    {
     "name": "stdout",
     "output_type": "stream",
     "text": [
      "Accuracy: 0.8796155378282586\n"
     ]
    },
    {
     "name": "stderr",
     "output_type": "stream",
     "text": [
      "/home/neeveermoree/anaconda3/envs/myenv/lib/python3.7/site-packages/sklearn/linear_model/logistic.py:433: FutureWarning: Default solver will be changed to 'lbfgs' in 0.22. Specify a solver to silence this warning.\n",
      "  FutureWarning)\n",
      "/home/neeveermoree/anaconda3/envs/myenv/lib/python3.7/site-packages/sklearn/linear_model/logistic.py:460: FutureWarning: Default multi_class will be changed to 'auto' in 0.22. Specify the multi_class option to silence this warning.\n",
      "  \"this warning.\", FutureWarning)\n"
     ]
    },
    {
     "name": "stdout",
     "output_type": "stream",
     "text": [
      "Accuracy: 0.879860678426606\n",
      "Mean accuracy: 0.8790379113133643\n",
      "CPU times: user 2h 53min 16s, sys: 7.2 s, total: 2h 53min 23s\n",
      "Wall time: 1h 27min 22s\n"
     ]
    }
   ],
   "source": [
    "%%time\n",
    "\n",
    "kf = KFold(n_splits=5, shuffle=True, random_state=2019)\n",
    "scores = []\n",
    "\n",
    "for train_index, test_index in kf.split(train, target):\n",
    "    \n",
    "    cnt_vec = CountVectorizer()\n",
    "    tf_idf = TfidfVectorizer()\n",
    "    std_scaler = StandardScaler()\n",
    "    label_bin = LabelBinarizer(sparse_output=True)\n",
    "    \n",
    "    title_tr = cnt_vec.fit_transform(train.iloc[train_index, 0])\n",
    "    description_tr = tf_idf.fit_transform(train.iloc[train_index, 1])\n",
    "    price_tr = std_scaler.fit_transform(train.iloc[train_index, 2].values.reshape(-1, 1))\n",
    "    digits_tr = label_bin.fit_transform(train.iloc[train_index, 3])\n",
    "    \n",
    "    train_dataset = hstack([title_tr, description_tr, price_tr, digits_tr])\n",
    "    \n",
    "    title_te = cnt_vec.transform(train.iloc[test_index, 0])\n",
    "    description_te = tf_idf.transform(train.iloc[test_index, 1])\n",
    "    price_te = std_scaler.transform(train.iloc[test_index, 2].values.reshape(-1, 1))\n",
    "    digits_te = label_bin.transform(train.iloc[test_index, 3])\n",
    "    \n",
    "    test_dataset = hstack([title_te, description_te, price_te, digits_te])\n",
    "\n",
    "    clf = LogisticRegression(random_state=2019)\n",
    "    clf.fit(train_dataset, target[train_index])\n",
    "    preds = clf.predict(test_dataset)\n",
    "    score = accuracy_score(target[test_index], preds)\n",
    "    scores.append(score)\n",
    "    print('Accuracy: {}'.format(score))\n",
    "\n",
    "print('Mean accuracy: {}'.format(np.array(scores).mean()))"
   ]
  },
  {
   "cell_type": "code",
   "execution_count": 11,
   "metadata": {},
   "outputs": [],
   "source": [
    "from sklearn.model_selection import train_test_split"
   ]
  },
  {
   "cell_type": "code",
   "execution_count": 53,
   "metadata": {},
   "outputs": [],
   "source": [
    "X_train, X_test, y_train, y_test = train_test_split(train, target, random_state=2019)"
   ]
  },
  {
   "cell_type": "code",
   "execution_count": 59,
   "metadata": {},
   "outputs": [
    {
     "data": {
      "text/plain": [
       "0.8779212289589802"
      ]
     },
     "execution_count": 59,
     "metadata": {},
     "output_type": "execute_result"
    }
   ],
   "source": [
    "cnt_vec = CountVectorizer()\n",
    "tf_idf = TfidfVectorizer()\n",
    "std_scaler = StandardScaler()\n",
    "label_bin = LabelBinarizer(sparse_output=True)\n",
    "\n",
    "title_tr = cnt_vec.fit_transform(X_train.iloc[:, 0])\n",
    "description_tr = tf_idf.fit_transform(X_train.iloc[:, 1])\n",
    "price_tr = std_scaler.fit_transform(X_train.iloc[:, 2].values.reshape(-1, 1))\n",
    "digits_tr = label_bin.fit_transform(X_train.iloc[:, 3])\n",
    "\n",
    "train_dataset = hstack([title_tr, description_tr, price_tr, digits_tr])\n",
    "\n",
    "title_te = cnt_vec.transform(X_test.iloc[:, 0])\n",
    "description_te = tf_idf.transform(X_test.iloc[:, 1])\n",
    "price_te = std_scaler.transform(X_test.iloc[:, 2].values.reshape(-1, 1))\n",
    "digits_te = label_bin.transform(X_test.iloc[:, 3])\n",
    "\n",
    "test_dataset = hstack([title_te, description_te, price_te, digits_te])"
   ]
  },
  {
   "cell_type": "code",
   "execution_count": null,
   "metadata": {},
   "outputs": [],
   "source": [
    "clf = LogisticRegression(random_state=2019, solver='liblinear', multi_class='ovr')\n",
    "clf.fit(train_dataset, y_train)\n",
    "preds = clf.predict(test_dataset)\n",
    "accuracy_score(y_test, preds)"
   ]
  },
  {
   "cell_type": "markdown",
   "metadata": {},
   "source": [
    "### При большом количестве разнообразных тестов я пришел к выводу, что все-таки лучше стоит отбросить информацию о иерархичности категорий и сразу классифицировать все категории одной моделью. Аккуратность на кросс-валидации с 5 фолдами примерно 0.879, а у классификатора, классифирующего только самую первую категорию (классы ниже), имеет аккуратность около 0.961, причем классы эти достаточно разнообразны и их различить между собой будет проще, чем их последующие подкатегории (которых в среднем 2). То есть у таких последовательных классификаторов уже после предсказания категории и одной подкатегории метрика будет меньше, чем у классификатора, предсказывающего сразу все классы. А ведь надо еще глубже классифицировать объявления)). \n",
    "\n",
    "### В качестве моделей я использовал логистическую регрессию со стохастическим и обычным градиентым спуском, кнн, свм. Деревья и их энсемблы, к сожалению, не получилось обучить, так как не позволяет железо )). Лучшей в итоге стала Логистическая регрессия."
   ]
  },
  {
   "cell_type": "code",
   "execution_count": 77,
   "metadata": {},
   "outputs": [
    {
     "data": {
      "text/plain": [
       "array(['Бытовая электроника', 'Для дома и дачи', 'Личные вещи',\n",
       "       'Хобби и отдых'], dtype=object)"
      ]
     },
     "execution_count": 77,
     "metadata": {},
     "output_type": "execute_result"
    }
   ],
   "source": [
    "cat_1"
   ]
  },
  {
   "cell_type": "markdown",
   "metadata": {},
   "source": [
    "## Посчитаю аккуратность на каждой ступени иерархии"
   ]
  },
  {
   "cell_type": "markdown",
   "metadata": {},
   "source": [
    "### Первая ступень, классы:"
   ]
  },
  {
   "cell_type": "code",
   "execution_count": 91,
   "metadata": {},
   "outputs": [
    {
     "data": {
      "text/plain": [
       "array(['Бытовая электроника', 'Для дома и дачи', 'Личные вещи',\n",
       "       'Хобби и отдых'], dtype=object)"
      ]
     },
     "execution_count": 91,
     "metadata": {},
     "output_type": "execute_result"
    }
   ],
   "source": [
    "cat_1"
   ]
  },
  {
   "cell_type": "code",
   "execution_count": 83,
   "metadata": {
    "scrolled": true
   },
   "outputs": [],
   "source": [
    "test_1 = y_test.replace(cat_1_dict)\n",
    "preds_1 = pd.Series(preds).replace(cat_1_dict)"
   ]
  },
  {
   "cell_type": "code",
   "execution_count": 90,
   "metadata": {},
   "outputs": [
    {
     "data": {
      "text/plain": [
       "0.9577055074358556"
      ]
     },
     "execution_count": 90,
     "metadata": {},
     "output_type": "execute_result"
    }
   ],
   "source": [
    "accuracy_score(test_1, preds_1)"
   ]
  },
  {
   "cell_type": "markdown",
   "metadata": {},
   "source": [
    "### Вторая ступень, классы:"
   ]
  },
  {
   "cell_type": "code",
   "execution_count": 92,
   "metadata": {},
   "outputs": [],
   "source": [
    "cat_2 = pd.Series([item[1] for item in splitted]).unique()"
   ]
  },
  {
   "cell_type": "code",
   "execution_count": 93,
   "metadata": {},
   "outputs": [
    {
     "data": {
      "text/plain": [
       "array(['Телефоны', 'Ноутбуки', 'Планшеты и электронные книги',\n",
       "       'Игры, приставки и программы', 'Аудио и видео',\n",
       "       'Настольные компьютеры', 'Товары для компьютера',\n",
       "       'Ремонт и строительство', 'Мебель и интерьер',\n",
       "       'Посуда и товары для кухни', 'Растения', 'Бытовая техника',\n",
       "       'Товары для детей и игрушки', 'Одежда, обувь, аксессуары',\n",
       "       'Часы и украшения', 'Красота и здоровье', 'Спорт и отдых',\n",
       "       'Книги и журналы', 'Коллекционирование', 'Билеты и путешествия',\n",
       "       'Охота и рыбалка', 'Музыкальные инструменты', 'Велосипеды'],\n",
       "      dtype=object)"
      ]
     },
     "execution_count": 93,
     "metadata": {},
     "output_type": "execute_result"
    }
   ],
   "source": [
    "cat_2"
   ]
  },
  {
   "cell_type": "code",
   "execution_count": 97,
   "metadata": {
    "scrolled": true
   },
   "outputs": [
    {
     "data": {
      "text/plain": [
       "category_id\n",
       "0                         Телефоны\n",
       "1                         Ноутбуки\n",
       "2                         Телефоны\n",
       "3     Планшеты и электронные книги\n",
       "4      Игры, приставки и программы\n",
       "5                    Аудио и видео\n",
       "6                         Телефоны\n",
       "7            Настольные компьютеры\n",
       "8      Игры, приставки и программы\n",
       "9                         Телефоны\n",
       "10                        Телефоны\n",
       "11                        Телефоны\n",
       "12                   Аудио и видео\n",
       "13           Товары для компьютера\n",
       "14           Товары для компьютера\n",
       "15          Ремонт и строительство\n",
       "16               Мебель и интерьер\n",
       "17          Ремонт и строительство\n",
       "18               Мебель и интерьер\n",
       "19               Мебель и интерьер\n",
       "20       Посуда и товары для кухни\n",
       "21          Ремонт и строительство\n",
       "22               Мебель и интерьер\n",
       "23               Мебель и интерьер\n",
       "24                        Растения\n",
       "25          Ремонт и строительство\n",
       "26                 Бытовая техника\n",
       "27               Мебель и интерьер\n",
       "28               Мебель и интерьер\n",
       "29                 Бытовая техника\n",
       "30      Товары для детей и игрушки\n",
       "31       Одежда, обувь, аксессуары\n",
       "32      Товары для детей и игрушки\n",
       "33       Одежда, обувь, аксессуары\n",
       "34      Товары для детей и игрушки\n",
       "35       Одежда, обувь, аксессуары\n",
       "36                Часы и украшения\n",
       "37              Красота и здоровье\n",
       "38       Одежда, обувь, аксессуары\n",
       "39       Одежда, обувь, аксессуары\n",
       "40                Часы и украшения\n",
       "41      Товары для детей и игрушки\n",
       "42                   Спорт и отдых\n",
       "43                 Книги и журналы\n",
       "44              Коллекционирование\n",
       "45              Коллекционирование\n",
       "46                   Спорт и отдых\n",
       "47                   Спорт и отдых\n",
       "48            Билеты и путешествия\n",
       "49                 Охота и рыбалка\n",
       "50         Музыкальные инструменты\n",
       "51                 Книги и журналы\n",
       "52         Музыкальные инструменты\n",
       "53                      Велосипеды\n",
       "Name: name, dtype: object"
      ]
     },
     "execution_count": 97,
     "metadata": {},
     "output_type": "execute_result"
    }
   ],
   "source": [
    "cat_2_dict = splitted.apply(create_dict, args=(cat_2,))\n",
    "cat_2_dict"
   ]
  },
  {
   "cell_type": "code",
   "execution_count": 98,
   "metadata": {},
   "outputs": [
    {
     "data": {
      "text/plain": [
       "0.9361823827422782"
      ]
     },
     "execution_count": 98,
     "metadata": {},
     "output_type": "execute_result"
    }
   ],
   "source": [
    "test_2 = y_test.replace(cat_2_dict)\n",
    "preds_2 = pd.Series(preds).replace(cat_2_dict)\n",
    "accuracy_score(test_2, preds_2)"
   ]
  },
  {
   "cell_type": "markdown",
   "metadata": {},
   "source": [
    "### Третья ступень:"
   ]
  },
  {
   "cell_type": "code",
   "execution_count": 192,
   "metadata": {},
   "outputs": [
    {
     "data": {
      "text/plain": [
       "0.8737282905756855"
      ]
     },
     "execution_count": 192,
     "metadata": {},
     "output_type": "execute_result"
    }
   ],
   "source": [
    "cat_3 = []\n",
    "for item in splitted:\n",
    "    if len(item) >= 3:\n",
    "        cat_3.append(item[2])\n",
    "cat_3_dict = splitted.apply(create_dict, args=(cat_3,))\n",
    "preds_3 = preds[y_test.isin(cat_3_dict[cat_3_dict.notna()].index).reset_index(drop=True)]\n",
    "test_3 = y_test[y_test.isin(cat_3_dict[cat_3_dict.notna()].index)]\n",
    "accuracy_score(test_3, preds_3)"
   ]
  },
  {
   "cell_type": "markdown",
   "metadata": {},
   "source": [
    "### Последняя четвертая ступень:"
   ]
  },
  {
   "cell_type": "code",
   "execution_count": 193,
   "metadata": {},
   "outputs": [
    {
     "data": {
      "text/plain": [
       "0.7952236213634389"
      ]
     },
     "execution_count": 193,
     "metadata": {},
     "output_type": "execute_result"
    }
   ],
   "source": [
    "cat_4 = []\n",
    "for item in splitted:\n",
    "    if len(item) >= 4:\n",
    "        cat_4.append(item[3])\n",
    "cat_4_dict = splitted.apply(create_dict, args=(cat_4,))\n",
    "preds_4 = preds[y_test.isin(cat_4_dict[cat_4_dict.notna()].index).reset_index(drop=True)]\n",
    "test_4 = y_test[y_test.isin(cat_4_dict[cat_4_dict.notna()].index)]\n",
    "accuracy_score(test_4, preds_4)"
   ]
  },
  {
   "cell_type": "markdown",
   "metadata": {},
   "source": [
    "## Обучаю основную модель на всех данных и делаю предсказания для тестовой выборки"
   ]
  },
  {
   "cell_type": "code",
   "execution_count": 17,
   "metadata": {},
   "outputs": [],
   "source": [
    "train = pd.read_csv('train.csv', index_col='item_id')\n",
    "test = pd.read_csv('test.csv', index_col='item_id')"
   ]
  },
  {
   "cell_type": "code",
   "execution_count": 18,
   "metadata": {},
   "outputs": [],
   "source": [
    "target = train['category_id']\n",
    "train = train.drop('category_id', axis=1)"
   ]
  },
  {
   "cell_type": "code",
   "execution_count": 19,
   "metadata": {},
   "outputs": [
    {
     "data": {
      "text/html": [
       "<div>\n",
       "<style scoped>\n",
       "    .dataframe tbody tr th:only-of-type {\n",
       "        vertical-align: middle;\n",
       "    }\n",
       "\n",
       "    .dataframe tbody tr th {\n",
       "        vertical-align: top;\n",
       "    }\n",
       "\n",
       "    .dataframe thead th {\n",
       "        text-align: right;\n",
       "    }\n",
       "</style>\n",
       "<table border=\"1\" class=\"dataframe\">\n",
       "  <thead>\n",
       "    <tr style=\"text-align: right;\">\n",
       "      <th></th>\n",
       "      <th>title</th>\n",
       "      <th>description</th>\n",
       "      <th>price</th>\n",
       "    </tr>\n",
       "    <tr>\n",
       "      <th>item_id</th>\n",
       "      <th></th>\n",
       "      <th></th>\n",
       "      <th></th>\n",
       "    </tr>\n",
       "  </thead>\n",
       "  <tbody>\n",
       "    <tr>\n",
       "      <th>0</th>\n",
       "      <td>Картина</td>\n",
       "      <td>Гобелен. Размеры 139х84см.</td>\n",
       "      <td>1000.0</td>\n",
       "    </tr>\n",
       "    <tr>\n",
       "      <th>1</th>\n",
       "      <td>Стулья из прессованной кожи</td>\n",
       "      <td>Продам недорого 4 стула из светлой прессованно...</td>\n",
       "      <td>1250.0</td>\n",
       "    </tr>\n",
       "    <tr>\n",
       "      <th>2</th>\n",
       "      <td>Домашняя мини баня</td>\n",
       "      <td>Мини баня МБ-1(мини сауна), предназначена для ...</td>\n",
       "      <td>13000.0</td>\n",
       "    </tr>\n",
       "    <tr>\n",
       "      <th>3</th>\n",
       "      <td>Эксклюзивная коллекция книг \"Трансаэро\" + подарок</td>\n",
       "      <td>Продам эксклюзивную коллекцию книг, выпущенную...</td>\n",
       "      <td>4000.0</td>\n",
       "    </tr>\n",
       "    <tr>\n",
       "      <th>4</th>\n",
       "      <td>Ноутбук aser</td>\n",
       "      <td>Продаётся ноутбук ACER e5-511C2TA. Куплен в ко...</td>\n",
       "      <td>19000.0</td>\n",
       "    </tr>\n",
       "  </tbody>\n",
       "</table>\n",
       "</div>"
      ],
      "text/plain": [
       "                                                     title  \\\n",
       "item_id                                                      \n",
       "0                                                  Картина   \n",
       "1                              Стулья из прессованной кожи   \n",
       "2                                       Домашняя мини баня   \n",
       "3        Эксклюзивная коллекция книг \"Трансаэро\" + подарок   \n",
       "4                                             Ноутбук aser   \n",
       "\n",
       "                                               description    price  \n",
       "item_id                                                              \n",
       "0                               Гобелен. Размеры 139х84см.   1000.0  \n",
       "1        Продам недорого 4 стула из светлой прессованно...   1250.0  \n",
       "2        Мини баня МБ-1(мини сауна), предназначена для ...  13000.0  \n",
       "3        Продам эксклюзивную коллекцию книг, выпущенную...   4000.0  \n",
       "4        Продаётся ноутбук ACER e5-511C2TA. Куплен в ко...  19000.0  "
      ]
     },
     "execution_count": 19,
     "metadata": {},
     "output_type": "execute_result"
    }
   ],
   "source": [
    "train.head()"
   ]
  },
  {
   "cell_type": "code",
   "execution_count": 20,
   "metadata": {},
   "outputs": [
    {
     "data": {
      "text/html": [
       "<div>\n",
       "<style scoped>\n",
       "    .dataframe tbody tr th:only-of-type {\n",
       "        vertical-align: middle;\n",
       "    }\n",
       "\n",
       "    .dataframe tbody tr th {\n",
       "        vertical-align: top;\n",
       "    }\n",
       "\n",
       "    .dataframe thead th {\n",
       "        text-align: right;\n",
       "    }\n",
       "</style>\n",
       "<table border=\"1\" class=\"dataframe\">\n",
       "  <thead>\n",
       "    <tr style=\"text-align: right;\">\n",
       "      <th></th>\n",
       "      <th>title</th>\n",
       "      <th>description</th>\n",
       "      <th>price</th>\n",
       "    </tr>\n",
       "    <tr>\n",
       "      <th>item_id</th>\n",
       "      <th></th>\n",
       "      <th></th>\n",
       "      <th></th>\n",
       "    </tr>\n",
       "  </thead>\n",
       "  <tbody>\n",
       "    <tr>\n",
       "      <th>489517</th>\n",
       "      <td>Стоик журнальный сталь</td>\n",
       "      <td>продам журнальный столик изготавливаю столы из...</td>\n",
       "      <td>10000.0</td>\n",
       "    </tr>\n",
       "    <tr>\n",
       "      <th>489518</th>\n",
       "      <td>iPhone 5 64Gb</td>\n",
       "      <td>Телефон в хорошем состоянии. Комплект, гаранти...</td>\n",
       "      <td>12500.0</td>\n",
       "    </tr>\n",
       "    <tr>\n",
       "      <th>489519</th>\n",
       "      <td>Утеплитель</td>\n",
       "      <td>ТЕПЛОПЕЛЕН-ЛИДЕР ТЕПЛА!!! Толщина утеплителя :...</td>\n",
       "      <td>250.0</td>\n",
       "    </tr>\n",
       "    <tr>\n",
       "      <th>489520</th>\n",
       "      <td>Пальто демисезонное</td>\n",
       "      <td>Продам пальто женское (букле) в отличном состо...</td>\n",
       "      <td>1700.0</td>\n",
       "    </tr>\n",
       "    <tr>\n",
       "      <th>489521</th>\n",
       "      <td>Samsung syncmaster T200N</td>\n",
       "      <td>Условно рабочий, проблема в панели настройки м...</td>\n",
       "      <td>1000.0</td>\n",
       "    </tr>\n",
       "  </tbody>\n",
       "</table>\n",
       "</div>"
      ],
      "text/plain": [
       "                            title  \\\n",
       "item_id                             \n",
       "489517     Стоик журнальный сталь   \n",
       "489518              iPhone 5 64Gb   \n",
       "489519                 Утеплитель   \n",
       "489520        Пальто демисезонное   \n",
       "489521   Samsung syncmaster T200N   \n",
       "\n",
       "                                               description    price  \n",
       "item_id                                                              \n",
       "489517   продам журнальный столик изготавливаю столы из...  10000.0  \n",
       "489518   Телефон в хорошем состоянии. Комплект, гаранти...  12500.0  \n",
       "489519   ТЕПЛОПЕЛЕН-ЛИДЕР ТЕПЛА!!! Толщина утеплителя :...    250.0  \n",
       "489520   Продам пальто женское (букле) в отличном состо...   1700.0  \n",
       "489521   Условно рабочий, проблема в панели настройки м...   1000.0  "
      ]
     },
     "execution_count": 20,
     "metadata": {},
     "output_type": "execute_result"
    }
   ],
   "source": [
    "test.head()"
   ]
  },
  {
   "cell_type": "code",
   "execution_count": 22,
   "metadata": {},
   "outputs": [],
   "source": [
    "def prepare_dataset(df):\n",
    "    price_digits = df['price'].apply(lambda z: int(np.log10(z))+1)\n",
    "    df = df.assign(price_digits=price_digits)\n",
    "    text_cols = ['title', 'description']\n",
    "    for col in text_cols:\n",
    "        df[col] = df[col].str.lower()\n",
    "        df[col] = df[col].apply(word_tokenize)\n",
    "        df[col] = df[col].apply(lambda x: [w for w in x if w.isalpha()])\n",
    "    stemmed_title = df['title'].apply(lambda word_list: [stemmer.stem(x) for x in word_list])\n",
    "    stemmed_description = df['description'].apply(lambda word_list: [stemmer.stem(x) for x in word_list])\n",
    "    title_cleared = list(map(remove_stop_words, stemmed_title))\n",
    "    description_cleared = list(map(remove_stop_words, stemmed_description))\n",
    "    df['title'] = title_cleared\n",
    "    df['description'] = description_cleared\n",
    "    return df"
   ]
  },
  {
   "cell_type": "code",
   "execution_count": 25,
   "metadata": {},
   "outputs": [
    {
     "name": "stdout",
     "output_type": "stream",
     "text": [
      "CPU times: user 15min 37s, sys: 1.67 s, total: 15min 38s\n",
      "Wall time: 15min 39s\n"
     ]
    }
   ],
   "source": [
    "%%time\n",
    "train_prepared = prepare_dataset(train)"
   ]
  },
  {
   "cell_type": "code",
   "execution_count": 28,
   "metadata": {},
   "outputs": [
    {
     "name": "stdout",
     "output_type": "stream",
     "text": [
      "CPU times: user 7min 48s, sys: 35.8 ms, total: 7min 48s\n",
      "Wall time: 7min 49s\n"
     ]
    }
   ],
   "source": [
    "%%time\n",
    "test_prepared = prepare_dataset(test)"
   ]
  },
  {
   "cell_type": "code",
   "execution_count": 33,
   "metadata": {},
   "outputs": [],
   "source": [
    "cnt_vec = CountVectorizer()\n",
    "tf_idf = TfidfVectorizer()\n",
    "std_scaler = StandardScaler()\n",
    "label_bin = LabelBinarizer(sparse_output=True)"
   ]
  },
  {
   "cell_type": "code",
   "execution_count": 34,
   "metadata": {},
   "outputs": [],
   "source": [
    "title_tr = cnt_vec.fit_transform(train_prepared.iloc[:, 0])\n",
    "description_tr = tf_idf.fit_transform(train_prepared.iloc[:, 1])\n",
    "price_tr = std_scaler.fit_transform(train_prepared.iloc[:, 2].values.reshape(-1, 1))\n",
    "digits_tr = label_bin.fit_transform(train_prepared.iloc[:, 3])\n",
    "\n",
    "train_dataset = hstack([title_tr, description_tr, price_tr, digits_tr])"
   ]
  },
  {
   "cell_type": "code",
   "execution_count": 35,
   "metadata": {},
   "outputs": [],
   "source": [
    "title_te = cnt_vec.transform(test_prepared.iloc[:, 0])\n",
    "description_te = tf_idf.transform(test_prepared.iloc[:, 1])\n",
    "price_te = std_scaler.transform(test_prepared.iloc[:, 2].values.reshape(-1, 1))\n",
    "digits_te = label_bin.transform(test_prepared.iloc[:, 3])\n",
    "\n",
    "test_dataset = hstack([title_te, description_te, price_te, digits_te])"
   ]
  },
  {
   "cell_type": "code",
   "execution_count": 39,
   "metadata": {},
   "outputs": [
    {
     "name": "stdout",
     "output_type": "stream",
     "text": [
      "CPU times: user 51min 25s, sys: 1.16 s, total: 51min 26s\n",
      "Wall time: 25min 44s\n"
     ]
    }
   ],
   "source": [
    "%%time\n",
    "clf = LogisticRegression(random_state=2019, solver='liblinear', multi_class='ovr', max_iter=150)\n",
    "clf.fit(train_dataset, target)\n",
    "preds = clf.predict(test_dataset)"
   ]
  },
  {
   "cell_type": "code",
   "execution_count": 54,
   "metadata": {},
   "outputs": [
    {
     "data": {
      "text/plain": [
       "(243166,)"
      ]
     },
     "execution_count": 54,
     "metadata": {},
     "output_type": "execute_result"
    }
   ],
   "source": [
    "preds.shape"
   ]
  },
  {
   "cell_type": "code",
   "execution_count": 43,
   "metadata": {},
   "outputs": [
    {
     "data": {
      "text/plain": [
       "(243166, 3)"
      ]
     },
     "execution_count": 43,
     "metadata": {},
     "output_type": "execute_result"
    }
   ],
   "source": [
    "test.shape"
   ]
  },
  {
   "cell_type": "code",
   "execution_count": 53,
   "metadata": {},
   "outputs": [
    {
     "data": {
      "text/plain": [
       "(243166,)"
      ]
     },
     "execution_count": 53,
     "metadata": {},
     "output_type": "execute_result"
    }
   ],
   "source": [
    "test.index.shape"
   ]
  },
  {
   "cell_type": "code",
   "execution_count": 59,
   "metadata": {
    "scrolled": true
   },
   "outputs": [],
   "source": [
    "pd.DataFrame({'item_id':test.index, 'category_id':preds}).to_csv('submission.csv', index=False)"
   ]
  },
  {
   "cell_type": "code",
   "execution_count": 58,
   "metadata": {},
   "outputs": [
    {
     "data": {
      "text/plain": [
       "['category.csv',\n",
       " 'test.csv',\n",
       " 'avito.ipynb',\n",
       " '.ipynb_checkpoints',\n",
       " 'train.csv',\n",
       " 'submission.csv']"
      ]
     },
     "execution_count": 58,
     "metadata": {},
     "output_type": "execute_result"
    }
   ],
   "source": [
    "os.listdir()"
   ]
  }
 ],
 "metadata": {
  "kernelspec": {
   "display_name": "Python 3",
   "language": "python",
   "name": "python3"
  },
  "language_info": {
   "codemirror_mode": {
    "name": "ipython",
    "version": 3
   },
   "file_extension": ".py",
   "mimetype": "text/x-python",
   "name": "python",
   "nbconvert_exporter": "python",
   "pygments_lexer": "ipython3",
   "version": "3.7.1"
  }
 },
 "nbformat": 4,
 "nbformat_minor": 2
}
